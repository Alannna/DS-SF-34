{
 "cells": [
  {
   "cell_type": "markdown",
   "metadata": {},
   "source": [
    "# DS-SF-34 | 07 | Linear Regression | Codealong | Starter Code"
   ]
  },
  {
   "cell_type": "code",
   "execution_count": 1,
   "metadata": {
    "collapsed": false
   },
   "outputs": [],
   "source": [
    "import os\n",
    "\n",
    "import numpy as np\n",
    "\n",
    "import pandas as pd\n",
    "pd.set_option('display.max_rows', 10)\n",
    "pd.set_option('display.notebook_repr_html', True)\n",
    "pd.set_option('display.max_columns', 10)\n",
    "\n",
    "import statsmodels.api as sm\n",
    "import statsmodels.formula.api as smf\n",
    "\n",
    "import matplotlib.pyplot as plt\n",
    "%matplotlib inline\n",
    "plt.style.use('ggplot')\n",
    "\n",
    "import scipy.stats as stats"
   ]
  },
  {
   "cell_type": "code",
   "execution_count": 2,
   "metadata": {
    "collapsed": false
   },
   "outputs": [],
   "source": [
    "def read_dataset():\n",
    "    return pd.read_csv(os.path.join('..', 'datasets', 'dataset-07-zillow.csv'), index_col = 'ID')\n",
    "\n",
    "df = read_dataset()"
   ]
  },
  {
   "cell_type": "code",
   "execution_count": 11,
   "metadata": {
    "collapsed": false
   },
   "outputs": [
    {
     "data": {
      "text/html": [
       "<div>\n",
       "<table border=\"1\" class=\"dataframe\">\n",
       "  <thead>\n",
       "    <tr style=\"text-align: right;\">\n",
       "      <th></th>\n",
       "      <th>Address</th>\n",
       "      <th>DateOfSale</th>\n",
       "      <th>SalePrice</th>\n",
       "      <th>IsAStudio</th>\n",
       "      <th>Beds</th>\n",
       "      <th>Baths</th>\n",
       "      <th>Size</th>\n",
       "      <th>LotSize</th>\n",
       "      <th>BuiltInYear</th>\n",
       "    </tr>\n",
       "    <tr>\n",
       "      <th>ID</th>\n",
       "      <th></th>\n",
       "      <th></th>\n",
       "      <th></th>\n",
       "      <th></th>\n",
       "      <th></th>\n",
       "      <th></th>\n",
       "      <th></th>\n",
       "      <th></th>\n",
       "      <th></th>\n",
       "    </tr>\n",
       "  </thead>\n",
       "  <tbody>\n",
       "    <tr>\n",
       "      <th>15063471</th>\n",
       "      <td>55 Vandewater St APT 9, San Francisco, CA</td>\n",
       "      <td>12/4/15</td>\n",
       "      <td>0.710</td>\n",
       "      <td>0.0</td>\n",
       "      <td>1.0</td>\n",
       "      <td>NaN</td>\n",
       "      <td>0.550</td>\n",
       "      <td>NaN</td>\n",
       "      <td>1980.0</td>\n",
       "    </tr>\n",
       "    <tr>\n",
       "      <th>15063505</th>\n",
       "      <td>740 Francisco St, San Francisco, CA</td>\n",
       "      <td>11/30/15</td>\n",
       "      <td>2.150</td>\n",
       "      <td>0.0</td>\n",
       "      <td>NaN</td>\n",
       "      <td>2.0</td>\n",
       "      <td>1.430</td>\n",
       "      <td>2.435</td>\n",
       "      <td>1948.0</td>\n",
       "    </tr>\n",
       "    <tr>\n",
       "      <th>15063609</th>\n",
       "      <td>819 Francisco St, San Francisco, CA</td>\n",
       "      <td>11/12/15</td>\n",
       "      <td>5.600</td>\n",
       "      <td>0.0</td>\n",
       "      <td>2.0</td>\n",
       "      <td>3.5</td>\n",
       "      <td>2.040</td>\n",
       "      <td>3.920</td>\n",
       "      <td>1976.0</td>\n",
       "    </tr>\n",
       "    <tr>\n",
       "      <th>15064044</th>\n",
       "      <td>199 Chestnut St APT 5, San Francisco, CA</td>\n",
       "      <td>12/11/15</td>\n",
       "      <td>1.500</td>\n",
       "      <td>0.0</td>\n",
       "      <td>1.0</td>\n",
       "      <td>1.0</td>\n",
       "      <td>1.060</td>\n",
       "      <td>NaN</td>\n",
       "      <td>1930.0</td>\n",
       "    </tr>\n",
       "    <tr>\n",
       "      <th>15064257</th>\n",
       "      <td>111 Chestnut St APT 403, San Francisco, CA</td>\n",
       "      <td>1/15/16</td>\n",
       "      <td>0.970</td>\n",
       "      <td>0.0</td>\n",
       "      <td>2.0</td>\n",
       "      <td>2.0</td>\n",
       "      <td>1.299</td>\n",
       "      <td>NaN</td>\n",
       "      <td>1993.0</td>\n",
       "    </tr>\n",
       "    <tr>\n",
       "      <th>...</th>\n",
       "      <td>...</td>\n",
       "      <td>...</td>\n",
       "      <td>...</td>\n",
       "      <td>...</td>\n",
       "      <td>...</td>\n",
       "      <td>...</td>\n",
       "      <td>...</td>\n",
       "      <td>...</td>\n",
       "      <td>...</td>\n",
       "    </tr>\n",
       "    <tr>\n",
       "      <th>2124214951</th>\n",
       "      <td>412 Green St APT A, San Francisco, CA</td>\n",
       "      <td>1/15/16</td>\n",
       "      <td>0.390</td>\n",
       "      <td>1.0</td>\n",
       "      <td>NaN</td>\n",
       "      <td>1.0</td>\n",
       "      <td>0.264</td>\n",
       "      <td>NaN</td>\n",
       "      <td>2012.0</td>\n",
       "    </tr>\n",
       "    <tr>\n",
       "      <th>2126960082</th>\n",
       "      <td>355 1st St UNIT 1905, San Francisco, CA</td>\n",
       "      <td>11/20/15</td>\n",
       "      <td>0.860</td>\n",
       "      <td>0.0</td>\n",
       "      <td>1.0</td>\n",
       "      <td>1.0</td>\n",
       "      <td>0.691</td>\n",
       "      <td>NaN</td>\n",
       "      <td>2004.0</td>\n",
       "    </tr>\n",
       "    <tr>\n",
       "      <th>2128308939</th>\n",
       "      <td>33 Santa Cruz Ave, San Francisco, CA</td>\n",
       "      <td>12/10/15</td>\n",
       "      <td>0.830</td>\n",
       "      <td>0.0</td>\n",
       "      <td>3.0</td>\n",
       "      <td>3.0</td>\n",
       "      <td>1.738</td>\n",
       "      <td>2.299</td>\n",
       "      <td>1976.0</td>\n",
       "    </tr>\n",
       "    <tr>\n",
       "      <th>2131957929</th>\n",
       "      <td>1821 Grant Ave, San Francisco, CA</td>\n",
       "      <td>12/15/15</td>\n",
       "      <td>0.835</td>\n",
       "      <td>0.0</td>\n",
       "      <td>2.0</td>\n",
       "      <td>2.0</td>\n",
       "      <td>1.048</td>\n",
       "      <td>NaN</td>\n",
       "      <td>1975.0</td>\n",
       "    </tr>\n",
       "    <tr>\n",
       "      <th>2136213970</th>\n",
       "      <td>1200 Gough St, San Francisco, CA</td>\n",
       "      <td>1/10/16</td>\n",
       "      <td>0.825</td>\n",
       "      <td>0.0</td>\n",
       "      <td>1.0</td>\n",
       "      <td>1.0</td>\n",
       "      <td>0.900</td>\n",
       "      <td>NaN</td>\n",
       "      <td>1966.0</td>\n",
       "    </tr>\n",
       "  </tbody>\n",
       "</table>\n",
       "<p>1000 rows × 9 columns</p>\n",
       "</div>"
      ],
      "text/plain": [
       "                                               Address DateOfSale  SalePrice  \\\n",
       "ID                                                                             \n",
       "15063471     55 Vandewater St APT 9, San Francisco, CA    12/4/15      0.710   \n",
       "15063505           740 Francisco St, San Francisco, CA   11/30/15      2.150   \n",
       "15063609           819 Francisco St, San Francisco, CA   11/12/15      5.600   \n",
       "15064044      199 Chestnut St APT 5, San Francisco, CA   12/11/15      1.500   \n",
       "15064257    111 Chestnut St APT 403, San Francisco, CA    1/15/16      0.970   \n",
       "...                                                ...        ...        ...   \n",
       "2124214951       412 Green St APT A, San Francisco, CA    1/15/16      0.390   \n",
       "2126960082     355 1st St UNIT 1905, San Francisco, CA   11/20/15      0.860   \n",
       "2128308939        33 Santa Cruz Ave, San Francisco, CA   12/10/15      0.830   \n",
       "2131957929           1821 Grant Ave, San Francisco, CA   12/15/15      0.835   \n",
       "2136213970            1200 Gough St, San Francisco, CA    1/10/16      0.825   \n",
       "\n",
       "            IsAStudio  Beds  Baths   Size  LotSize  BuiltInYear  \n",
       "ID                                                               \n",
       "15063471          0.0   1.0    NaN  0.550      NaN       1980.0  \n",
       "15063505          0.0   NaN    2.0  1.430    2.435       1948.0  \n",
       "15063609          0.0   2.0    3.5  2.040    3.920       1976.0  \n",
       "15064044          0.0   1.0    1.0  1.060      NaN       1930.0  \n",
       "15064257          0.0   2.0    2.0  1.299      NaN       1993.0  \n",
       "...               ...   ...    ...    ...      ...          ...  \n",
       "2124214951        1.0   NaN    1.0  0.264      NaN       2012.0  \n",
       "2126960082        0.0   1.0    1.0  0.691      NaN       2004.0  \n",
       "2128308939        0.0   3.0    3.0  1.738    2.299       1976.0  \n",
       "2131957929        0.0   2.0    2.0  1.048      NaN       1975.0  \n",
       "2136213970        0.0   1.0    1.0  0.900      NaN       1966.0  \n",
       "\n",
       "[1000 rows x 9 columns]"
      ]
     },
     "execution_count": 11,
     "metadata": {},
     "output_type": "execute_result"
    }
   ],
   "source": [
    "# \n",
    "\n",
    "df\n"
   ]
  },
  {
   "cell_type": "code",
   "execution_count": 15,
   "metadata": {
    "collapsed": false
   },
   "outputs": [
    {
     "ename": "KeyError",
     "evalue": "\"['Saleprice'] not in index\"",
     "output_type": "error",
     "traceback": [
      "\u001b[0;31m---------------------------------------------------------------------------\u001b[0m",
      "\u001b[0;31mKeyError\u001b[0m                                  Traceback (most recent call last)",
      "\u001b[0;32m<ipython-input-15-b2dda0677bed>\u001b[0m in \u001b[0;36m<module>\u001b[0;34m()\u001b[0m\n\u001b[0;32m----> 1\u001b[0;31m \u001b[0mdf\u001b[0m\u001b[0;34m[\u001b[0m\u001b[0;34m[\u001b[0m\u001b[0;34m'Saleprice'\u001b[0m\u001b[0;34m,\u001b[0m \u001b[0;34m\"LotSize\"\u001b[0m\u001b[0;34m]\u001b[0m\u001b[0;34m]\u001b[0m\u001b[0;34m\u001b[0m\u001b[0m\n\u001b[0m",
      "\u001b[0;32m//anaconda/lib/python3.5/site-packages/pandas/core/frame.py\u001b[0m in \u001b[0;36m__getitem__\u001b[0;34m(self, key)\u001b[0m\n\u001b[1;32m   1989\u001b[0m         \u001b[0;32mif\u001b[0m \u001b[0misinstance\u001b[0m\u001b[0;34m(\u001b[0m\u001b[0mkey\u001b[0m\u001b[0;34m,\u001b[0m \u001b[0;34m(\u001b[0m\u001b[0mSeries\u001b[0m\u001b[0;34m,\u001b[0m \u001b[0mnp\u001b[0m\u001b[0;34m.\u001b[0m\u001b[0mndarray\u001b[0m\u001b[0;34m,\u001b[0m \u001b[0mIndex\u001b[0m\u001b[0;34m,\u001b[0m \u001b[0mlist\u001b[0m\u001b[0;34m)\u001b[0m\u001b[0;34m)\u001b[0m\u001b[0;34m:\u001b[0m\u001b[0;34m\u001b[0m\u001b[0m\n\u001b[1;32m   1990\u001b[0m             \u001b[0;31m# either boolean or fancy integer index\u001b[0m\u001b[0;34m\u001b[0m\u001b[0;34m\u001b[0m\u001b[0m\n\u001b[0;32m-> 1991\u001b[0;31m             \u001b[0;32mreturn\u001b[0m \u001b[0mself\u001b[0m\u001b[0;34m.\u001b[0m\u001b[0m_getitem_array\u001b[0m\u001b[0;34m(\u001b[0m\u001b[0mkey\u001b[0m\u001b[0;34m)\u001b[0m\u001b[0;34m\u001b[0m\u001b[0m\n\u001b[0m\u001b[1;32m   1992\u001b[0m         \u001b[0;32melif\u001b[0m \u001b[0misinstance\u001b[0m\u001b[0;34m(\u001b[0m\u001b[0mkey\u001b[0m\u001b[0;34m,\u001b[0m \u001b[0mDataFrame\u001b[0m\u001b[0;34m)\u001b[0m\u001b[0;34m:\u001b[0m\u001b[0;34m\u001b[0m\u001b[0m\n\u001b[1;32m   1993\u001b[0m             \u001b[0;32mreturn\u001b[0m \u001b[0mself\u001b[0m\u001b[0;34m.\u001b[0m\u001b[0m_getitem_frame\u001b[0m\u001b[0;34m(\u001b[0m\u001b[0mkey\u001b[0m\u001b[0;34m)\u001b[0m\u001b[0;34m\u001b[0m\u001b[0m\n",
      "\u001b[0;32m//anaconda/lib/python3.5/site-packages/pandas/core/frame.py\u001b[0m in \u001b[0;36m_getitem_array\u001b[0;34m(self, key)\u001b[0m\n\u001b[1;32m   2033\u001b[0m             \u001b[0;32mreturn\u001b[0m \u001b[0mself\u001b[0m\u001b[0;34m.\u001b[0m\u001b[0mtake\u001b[0m\u001b[0;34m(\u001b[0m\u001b[0mindexer\u001b[0m\u001b[0;34m,\u001b[0m \u001b[0maxis\u001b[0m\u001b[0;34m=\u001b[0m\u001b[0;36m0\u001b[0m\u001b[0;34m,\u001b[0m \u001b[0mconvert\u001b[0m\u001b[0;34m=\u001b[0m\u001b[0;32mFalse\u001b[0m\u001b[0;34m)\u001b[0m\u001b[0;34m\u001b[0m\u001b[0m\n\u001b[1;32m   2034\u001b[0m         \u001b[0;32melse\u001b[0m\u001b[0;34m:\u001b[0m\u001b[0;34m\u001b[0m\u001b[0m\n\u001b[0;32m-> 2035\u001b[0;31m             \u001b[0mindexer\u001b[0m \u001b[0;34m=\u001b[0m \u001b[0mself\u001b[0m\u001b[0;34m.\u001b[0m\u001b[0mix\u001b[0m\u001b[0;34m.\u001b[0m\u001b[0m_convert_to_indexer\u001b[0m\u001b[0;34m(\u001b[0m\u001b[0mkey\u001b[0m\u001b[0;34m,\u001b[0m \u001b[0maxis\u001b[0m\u001b[0;34m=\u001b[0m\u001b[0;36m1\u001b[0m\u001b[0;34m)\u001b[0m\u001b[0;34m\u001b[0m\u001b[0m\n\u001b[0m\u001b[1;32m   2036\u001b[0m             \u001b[0;32mreturn\u001b[0m \u001b[0mself\u001b[0m\u001b[0;34m.\u001b[0m\u001b[0mtake\u001b[0m\u001b[0;34m(\u001b[0m\u001b[0mindexer\u001b[0m\u001b[0;34m,\u001b[0m \u001b[0maxis\u001b[0m\u001b[0;34m=\u001b[0m\u001b[0;36m1\u001b[0m\u001b[0;34m,\u001b[0m \u001b[0mconvert\u001b[0m\u001b[0;34m=\u001b[0m\u001b[0;32mTrue\u001b[0m\u001b[0;34m)\u001b[0m\u001b[0;34m\u001b[0m\u001b[0m\n\u001b[1;32m   2037\u001b[0m \u001b[0;34m\u001b[0m\u001b[0m\n",
      "\u001b[0;32m//anaconda/lib/python3.5/site-packages/pandas/core/indexing.py\u001b[0m in \u001b[0;36m_convert_to_indexer\u001b[0;34m(self, obj, axis, is_setter)\u001b[0m\n\u001b[1;32m   1212\u001b[0m                 \u001b[0mmask\u001b[0m \u001b[0;34m=\u001b[0m \u001b[0mcheck\u001b[0m \u001b[0;34m==\u001b[0m \u001b[0;34m-\u001b[0m\u001b[0;36m1\u001b[0m\u001b[0;34m\u001b[0m\u001b[0m\n\u001b[1;32m   1213\u001b[0m                 \u001b[0;32mif\u001b[0m \u001b[0mmask\u001b[0m\u001b[0;34m.\u001b[0m\u001b[0many\u001b[0m\u001b[0;34m(\u001b[0m\u001b[0;34m)\u001b[0m\u001b[0;34m:\u001b[0m\u001b[0;34m\u001b[0m\u001b[0m\n\u001b[0;32m-> 1214\u001b[0;31m                     \u001b[0;32mraise\u001b[0m \u001b[0mKeyError\u001b[0m\u001b[0;34m(\u001b[0m\u001b[0;34m'%s not in index'\u001b[0m \u001b[0;34m%\u001b[0m \u001b[0mobjarr\u001b[0m\u001b[0;34m[\u001b[0m\u001b[0mmask\u001b[0m\u001b[0;34m]\u001b[0m\u001b[0;34m)\u001b[0m\u001b[0;34m\u001b[0m\u001b[0m\n\u001b[0m\u001b[1;32m   1215\u001b[0m \u001b[0;34m\u001b[0m\u001b[0m\n\u001b[1;32m   1216\u001b[0m                 \u001b[0;32mreturn\u001b[0m \u001b[0m_values_from_object\u001b[0m\u001b[0;34m(\u001b[0m\u001b[0mindexer\u001b[0m\u001b[0;34m)\u001b[0m\u001b[0;34m\u001b[0m\u001b[0m\n",
      "\u001b[0;31mKeyError\u001b[0m: \"['Saleprice'] not in index\""
     ]
    }
   ],
   "source": [
    "df[['Saleprice', \"LotSize\"]]"
   ]
  },
  {
   "cell_type": "markdown",
   "metadata": {},
   "source": [
    "## Scale `Size` and `LotSize` from sqft to '1,000 sqft'"
   ]
  },
  {
   "cell_type": "code",
   "execution_count": 4,
   "metadata": {
    "collapsed": false
   },
   "outputs": [],
   "source": [
    "def scale_variables(df):\n",
    "    df.Size /= 10 ** 3 # Size in 1,000 sqft\n",
    "    df.LotSize /= 10 ** 3 # Lot size in 1,000 sqft\n",
    "\n",
    "scale_variables(df)"
   ]
  },
  {
   "cell_type": "code",
   "execution_count": 5,
   "metadata": {
    "collapsed": false,
    "scrolled": true
   },
   "outputs": [
    {
     "data": {
      "text/html": [
       "<div>\n",
       "<table border=\"1\" class=\"dataframe\">\n",
       "  <thead>\n",
       "    <tr style=\"text-align: right;\">\n",
       "      <th></th>\n",
       "      <th>Size</th>\n",
       "      <th>LotSize</th>\n",
       "    </tr>\n",
       "    <tr>\n",
       "      <th>ID</th>\n",
       "      <th></th>\n",
       "      <th></th>\n",
       "    </tr>\n",
       "  </thead>\n",
       "  <tbody>\n",
       "    <tr>\n",
       "      <th>15063471</th>\n",
       "      <td>0.550</td>\n",
       "      <td>NaN</td>\n",
       "    </tr>\n",
       "    <tr>\n",
       "      <th>15063505</th>\n",
       "      <td>1.430</td>\n",
       "      <td>2.435</td>\n",
       "    </tr>\n",
       "    <tr>\n",
       "      <th>15063609</th>\n",
       "      <td>2.040</td>\n",
       "      <td>3.920</td>\n",
       "    </tr>\n",
       "    <tr>\n",
       "      <th>15064044</th>\n",
       "      <td>1.060</td>\n",
       "      <td>NaN</td>\n",
       "    </tr>\n",
       "    <tr>\n",
       "      <th>15064257</th>\n",
       "      <td>1.299</td>\n",
       "      <td>NaN</td>\n",
       "    </tr>\n",
       "    <tr>\n",
       "      <th>...</th>\n",
       "      <td>...</td>\n",
       "      <td>...</td>\n",
       "    </tr>\n",
       "    <tr>\n",
       "      <th>2124214951</th>\n",
       "      <td>0.264</td>\n",
       "      <td>NaN</td>\n",
       "    </tr>\n",
       "    <tr>\n",
       "      <th>2126960082</th>\n",
       "      <td>0.691</td>\n",
       "      <td>NaN</td>\n",
       "    </tr>\n",
       "    <tr>\n",
       "      <th>2128308939</th>\n",
       "      <td>1.738</td>\n",
       "      <td>2.299</td>\n",
       "    </tr>\n",
       "    <tr>\n",
       "      <th>2131957929</th>\n",
       "      <td>1.048</td>\n",
       "      <td>NaN</td>\n",
       "    </tr>\n",
       "    <tr>\n",
       "      <th>2136213970</th>\n",
       "      <td>0.900</td>\n",
       "      <td>NaN</td>\n",
       "    </tr>\n",
       "  </tbody>\n",
       "</table>\n",
       "<p>1000 rows × 2 columns</p>\n",
       "</div>"
      ],
      "text/plain": [
       "             Size  LotSize\n",
       "ID                        \n",
       "15063471    0.550      NaN\n",
       "15063505    1.430    2.435\n",
       "15063609    2.040    3.920\n",
       "15064044    1.060      NaN\n",
       "15064257    1.299      NaN\n",
       "...           ...      ...\n",
       "2124214951  0.264      NaN\n",
       "2126960082  0.691      NaN\n",
       "2128308939  1.738    2.299\n",
       "2131957929  1.048      NaN\n",
       "2136213970  0.900      NaN\n",
       "\n",
       "[1000 rows x 2 columns]"
      ]
     },
     "execution_count": 5,
     "metadata": {},
     "output_type": "execute_result"
    }
   ],
   "source": [
    "df[ ['Size', 'LotSize'] ]"
   ]
  },
  {
   "cell_type": "markdown",
   "metadata": {},
   "source": [
    "## Part A | Linear Regression with _statsmodels_' `OLS`"
   ]
  },
  {
   "cell_type": "markdown",
   "metadata": {},
   "source": [
    "- (http://statsmodels.sourceforge.net/devel/generated/statsmodels.regression.linear_model.OLS.html)"
   ]
  },
  {
   "cell_type": "markdown",
   "metadata": {},
   "source": [
    "### `SalePrice` as a function of `Size`"
   ]
  },
  {
   "cell_type": "code",
   "execution_count": 16,
   "metadata": {
    "collapsed": false
   },
   "outputs": [
    {
     "data": {
      "text/html": [
       "<table class=\"simpletable\">\n",
       "<caption>OLS Regression Results</caption>\n",
       "<tr>\n",
       "  <th>Dep. Variable:</th>        <td>SalePrice</td>    <th>  R-squared:         </th> <td>     nan</td>\n",
       "</tr>\n",
       "<tr>\n",
       "  <th>Model:</th>                   <td>OLS</td>       <th>  Adj. R-squared:    </th> <td>     nan</td>\n",
       "</tr>\n",
       "<tr>\n",
       "  <th>Method:</th>             <td>Least Squares</td>  <th>  F-statistic:       </th> <td>     nan</td>\n",
       "</tr>\n",
       "<tr>\n",
       "  <th>Date:</th>             <td>Mon, 08 May 2017</td> <th>  Prob (F-statistic):</th>  <td>   nan</td> \n",
       "</tr>\n",
       "<tr>\n",
       "  <th>Time:</th>                 <td>19:27:36</td>     <th>  Log-Likelihood:    </th> <td>     nan</td>\n",
       "</tr>\n",
       "<tr>\n",
       "  <th>No. Observations:</th>      <td>  1000</td>      <th>  AIC:               </th> <td>     nan</td>\n",
       "</tr>\n",
       "<tr>\n",
       "  <th>Df Residuals:</th>          <td>  1000</td>      <th>  BIC:               </th> <td>     nan</td>\n",
       "</tr>\n",
       "<tr>\n",
       "  <th>Df Model:</th>              <td>    -1</td>      <th>                     </th>     <td> </td>   \n",
       "</tr>\n",
       "<tr>\n",
       "  <th>Covariance Type:</th>      <td>nonrobust</td>    <th>                     </th>     <td> </td>   \n",
       "</tr>\n",
       "</table>\n",
       "<table class=\"simpletable\">\n",
       "<tr>\n",
       "    <td></td>      <th>coef</th>     <th>std err</th>      <th>t</th>      <th>P>|t|</th> <th>[95.0% Conf. Int.]</th> \n",
       "</tr>\n",
       "<tr>\n",
       "  <th>Size</th> <td>       nan</td> <td>      nan</td> <td>      nan</td> <td>   nan</td> <td>      nan       nan</td>\n",
       "</tr>\n",
       "</table>\n",
       "<table class=\"simpletable\">\n",
       "<tr>\n",
       "  <th>Omnibus:</th>       <td>   nan</td> <th>  Durbin-Watson:     </th> <td>     nan</td>\n",
       "</tr>\n",
       "<tr>\n",
       "  <th>Prob(Omnibus):</th> <td>   nan</td> <th>  Jarque-Bera (JB):  </th> <td>     nan</td>\n",
       "</tr>\n",
       "<tr>\n",
       "  <th>Skew:</th>          <td>   nan</td> <th>  Prob(JB):          </th> <td>     nan</td>\n",
       "</tr>\n",
       "<tr>\n",
       "  <th>Kurtosis:</th>      <td>   nan</td> <th>  Cond. No.          </th> <td>     nan</td>\n",
       "</tr>\n",
       "</table>"
      ],
      "text/plain": [
       "<class 'statsmodels.iolib.summary.Summary'>\n",
       "\"\"\"\n",
       "                            OLS Regression Results                            \n",
       "==============================================================================\n",
       "Dep. Variable:              SalePrice   R-squared:                         nan\n",
       "Model:                            OLS   Adj. R-squared:                    nan\n",
       "Method:                 Least Squares   F-statistic:                       nan\n",
       "Date:                Mon, 08 May 2017   Prob (F-statistic):                nan\n",
       "Time:                        19:27:36   Log-Likelihood:                    nan\n",
       "No. Observations:                1000   AIC:                               nan\n",
       "Df Residuals:                    1000   BIC:                               nan\n",
       "Df Model:                          -1                                         \n",
       "Covariance Type:            nonrobust                                         \n",
       "==============================================================================\n",
       "                 coef    std err          t      P>|t|      [95.0% Conf. Int.]\n",
       "------------------------------------------------------------------------------\n",
       "Size              nan        nan        nan        nan           nan       nan\n",
       "==============================================================================\n",
       "Omnibus:                          nan   Durbin-Watson:                     nan\n",
       "Prob(Omnibus):                    nan   Jarque-Bera (JB):                  nan\n",
       "Skew:                             nan   Prob(JB):                          nan\n",
       "Kurtosis:                         nan   Cond. No.                          nan\n",
       "==============================================================================\n",
       "\n",
       "Warnings:\n",
       "[1] Standard Errors assume that the covariance matrix of the errors is correctly specified.\n",
       "\"\"\""
      ]
     },
     "execution_count": 16,
     "metadata": {},
     "output_type": "execute_result"
    }
   ],
   "source": [
    "def Xy(df):\n",
    "\n",
    "    X = df[ ['Size'] ]\n",
    "    y = df.SalePrice\n",
    "    \n",
    "    return X, y\n",
    "\n",
    "X, y = Xy(df)\n",
    "\n",
    "model = smf.OLS(y, X).fit()\n",
    "\n",
    "model.summary()"
   ]
  },
  {
   "cell_type": "markdown",
   "metadata": {},
   "source": [
    "### `SalePrice` as a function of `Size` - Take 2"
   ]
  },
  {
   "cell_type": "code",
   "execution_count": 29,
   "metadata": {
    "collapsed": false
   },
   "outputs": [
    {
     "data": {
      "text/html": [
       "<table class=\"simpletable\">\n",
       "<caption>OLS Regression Results</caption>\n",
       "<tr>\n",
       "  <th>Dep. Variable:</th>        <td>SalePrice</td>    <th>  R-squared:         </th> <td>   0.565</td> \n",
       "</tr>\n",
       "<tr>\n",
       "  <th>Model:</th>                   <td>OLS</td>       <th>  Adj. R-squared:    </th> <td>   0.565</td> \n",
       "</tr>\n",
       "<tr>\n",
       "  <th>Method:</th>             <td>Least Squares</td>  <th>  F-statistic:       </th> <td>   1255.</td> \n",
       "</tr>\n",
       "<tr>\n",
       "  <th>Date:</th>             <td>Mon, 08 May 2017</td> <th>  Prob (F-statistic):</th> <td>7.83e-177</td>\n",
       "</tr>\n",
       "<tr>\n",
       "  <th>Time:</th>                 <td>19:36:50</td>     <th>  Log-Likelihood:    </th> <td> -1689.6</td> \n",
       "</tr>\n",
       "<tr>\n",
       "  <th>No. Observations:</th>      <td>   967</td>      <th>  AIC:               </th> <td>   3381.</td> \n",
       "</tr>\n",
       "<tr>\n",
       "  <th>Df Residuals:</th>          <td>   966</td>      <th>  BIC:               </th> <td>   3386.</td> \n",
       "</tr>\n",
       "<tr>\n",
       "  <th>Df Model:</th>              <td>     1</td>      <th>                     </th>     <td> </td>    \n",
       "</tr>\n",
       "<tr>\n",
       "  <th>Covariance Type:</th>      <td>nonrobust</td>    <th>                     </th>     <td> </td>    \n",
       "</tr>\n",
       "</table>\n",
       "<table class=\"simpletable\">\n",
       "<tr>\n",
       "    <td></td>      <th>coef</th>     <th>std err</th>      <th>t</th>      <th>P>|t|</th> <th>[95.0% Conf. Int.]</th> \n",
       "</tr>\n",
       "<tr>\n",
       "  <th>Size</th> <td>    0.8176</td> <td>    0.023</td> <td>   35.426</td> <td> 0.000</td> <td>    0.772     0.863</td>\n",
       "</tr>\n",
       "</table>\n",
       "<table class=\"simpletable\">\n",
       "<tr>\n",
       "  <th>Omnibus:</th>       <td>1830.896</td> <th>  Durbin-Watson:     </th>  <td>   1.722</td>  \n",
       "</tr>\n",
       "<tr>\n",
       "  <th>Prob(Omnibus):</th>  <td> 0.000</td>  <th>  Jarque-Bera (JB):  </th> <td>3370566.094</td>\n",
       "</tr>\n",
       "<tr>\n",
       "  <th>Skew:</th>           <td>13.300</td>  <th>  Prob(JB):          </th>  <td>    0.00</td>  \n",
       "</tr>\n",
       "<tr>\n",
       "  <th>Kurtosis:</th>       <td>291.005</td> <th>  Cond. No.          </th>  <td>    1.00</td>  \n",
       "</tr>\n",
       "</table>"
      ],
      "text/plain": [
       "<class 'statsmodels.iolib.summary.Summary'>\n",
       "\"\"\"\n",
       "                            OLS Regression Results                            \n",
       "==============================================================================\n",
       "Dep. Variable:              SalePrice   R-squared:                       0.565\n",
       "Model:                            OLS   Adj. R-squared:                  0.565\n",
       "Method:                 Least Squares   F-statistic:                     1255.\n",
       "Date:                Mon, 08 May 2017   Prob (F-statistic):          7.83e-177\n",
       "Time:                        19:36:50   Log-Likelihood:                -1689.6\n",
       "No. Observations:                 967   AIC:                             3381.\n",
       "Df Residuals:                     966   BIC:                             3386.\n",
       "Df Model:                           1                                         \n",
       "Covariance Type:            nonrobust                                         \n",
       "==============================================================================\n",
       "                 coef    std err          t      P>|t|      [95.0% Conf. Int.]\n",
       "------------------------------------------------------------------------------\n",
       "Size           0.8176      0.023     35.426      0.000         0.772     0.863\n",
       "==============================================================================\n",
       "Omnibus:                     1830.896   Durbin-Watson:                   1.722\n",
       "Prob(Omnibus):                  0.000   Jarque-Bera (JB):          3370566.094\n",
       "Skew:                          13.300   Prob(JB):                         0.00\n",
       "Kurtosis:                     291.005   Cond. No.                         1.00\n",
       "==============================================================================\n",
       "\n",
       "Warnings:\n",
       "[1] Standard Errors assume that the covariance matrix of the errors is correctly specified.\n",
       "\"\"\""
      ]
     },
     "execution_count": 29,
     "metadata": {},
     "output_type": "execute_result"
    }
   ],
   "source": [
    "#if you have a X\n",
    "\n",
    "def Xy_2(df):\n",
    "    df = df.dropna(subset = ['Size'])\n",
    "    X = df[ ['Size'] ]\n",
    "    y = df.SalePrice\n",
    "    return X, y\n",
    "\n",
    "X, y = Xy_2(df)\n",
    "\n",
    "model = smf.OLS(y, X).fit()\n",
    "\n",
    "model.summary()"
   ]
  },
  {
   "cell_type": "code",
   "execution_count": 28,
   "metadata": {
    "collapsed": false
   },
   "outputs": [
    {
     "data": {
      "text/html": [
       "<div>\n",
       "<table border=\"1\" class=\"dataframe\">\n",
       "  <thead>\n",
       "    <tr style=\"text-align: right;\">\n",
       "      <th></th>\n",
       "      <th>Address</th>\n",
       "      <th>DateOfSale</th>\n",
       "      <th>SalePrice</th>\n",
       "      <th>IsAStudio</th>\n",
       "      <th>Beds</th>\n",
       "      <th>Baths</th>\n",
       "      <th>Size</th>\n",
       "      <th>LotSize</th>\n",
       "      <th>BuiltInYear</th>\n",
       "    </tr>\n",
       "    <tr>\n",
       "      <th>ID</th>\n",
       "      <th></th>\n",
       "      <th></th>\n",
       "      <th></th>\n",
       "      <th></th>\n",
       "      <th></th>\n",
       "      <th></th>\n",
       "      <th></th>\n",
       "      <th></th>\n",
       "      <th></th>\n",
       "    </tr>\n",
       "  </thead>\n",
       "  <tbody>\n",
       "    <tr>\n",
       "      <th>15063609</th>\n",
       "      <td>819 Francisco St, San Francisco, CA</td>\n",
       "      <td>11/12/15</td>\n",
       "      <td>5.60</td>\n",
       "      <td>0.0</td>\n",
       "      <td>2.0</td>\n",
       "      <td>3.5</td>\n",
       "      <td>2.040</td>\n",
       "      <td>3.920</td>\n",
       "      <td>1976.0</td>\n",
       "    </tr>\n",
       "    <tr>\n",
       "      <th>15064536</th>\n",
       "      <td>2300 Leavenworth St, San Francisco, CA</td>\n",
       "      <td>12/4/15</td>\n",
       "      <td>2.83</td>\n",
       "      <td>0.0</td>\n",
       "      <td>3.0</td>\n",
       "      <td>2.0</td>\n",
       "      <td>2.115</td>\n",
       "      <td>1.271</td>\n",
       "      <td>1913.0</td>\n",
       "    </tr>\n",
       "    <tr>\n",
       "      <th>15066281</th>\n",
       "      <td>1807 Jones St, San Francisco, CA</td>\n",
       "      <td>12/15/15</td>\n",
       "      <td>1.70</td>\n",
       "      <td>0.0</td>\n",
       "      <td>2.0</td>\n",
       "      <td>2.0</td>\n",
       "      <td>1.467</td>\n",
       "      <td>3.023</td>\n",
       "      <td>1922.0</td>\n",
       "    </tr>\n",
       "    <tr>\n",
       "      <th>15069883</th>\n",
       "      <td>59 Rico Way, San Francisco, CA</td>\n",
       "      <td>12/21/15</td>\n",
       "      <td>2.55</td>\n",
       "      <td>0.0</td>\n",
       "      <td>3.0</td>\n",
       "      <td>1.5</td>\n",
       "      <td>1.675</td>\n",
       "      <td>2.613</td>\n",
       "      <td>1925.0</td>\n",
       "    </tr>\n",
       "    <tr>\n",
       "      <th>15070227</th>\n",
       "      <td>134 Alhambra St, San Francisco, CA</td>\n",
       "      <td>1/18/16</td>\n",
       "      <td>3.08</td>\n",
       "      <td>0.0</td>\n",
       "      <td>3.0</td>\n",
       "      <td>3.0</td>\n",
       "      <td>2.599</td>\n",
       "      <td>3.005</td>\n",
       "      <td>1925.0</td>\n",
       "    </tr>\n",
       "    <tr>\n",
       "      <th>...</th>\n",
       "      <td>...</td>\n",
       "      <td>...</td>\n",
       "      <td>...</td>\n",
       "      <td>...</td>\n",
       "      <td>...</td>\n",
       "      <td>...</td>\n",
       "      <td>...</td>\n",
       "      <td>...</td>\n",
       "      <td>...</td>\n",
       "    </tr>\n",
       "    <tr>\n",
       "      <th>96048518</th>\n",
       "      <td>16 Orizaba Ave, San Francisco, CA</td>\n",
       "      <td>12/9/15</td>\n",
       "      <td>1.30</td>\n",
       "      <td>0.0</td>\n",
       "      <td>6.0</td>\n",
       "      <td>6.0</td>\n",
       "      <td>4.136</td>\n",
       "      <td>2.613</td>\n",
       "      <td>2010.0</td>\n",
       "    </tr>\n",
       "    <tr>\n",
       "      <th>2099976986</th>\n",
       "      <td>639 35th Ave, San Francisco, CA</td>\n",
       "      <td>1/21/16</td>\n",
       "      <td>2.19</td>\n",
       "      <td>0.0</td>\n",
       "      <td>9.0</td>\n",
       "      <td>6.0</td>\n",
       "      <td>2.790</td>\n",
       "      <td>3.005</td>\n",
       "      <td>1900.0</td>\n",
       "    </tr>\n",
       "    <tr>\n",
       "      <th>2100850402</th>\n",
       "      <td>1915 Diamond St, San Francisco, CA</td>\n",
       "      <td>12/29/15</td>\n",
       "      <td>1.80</td>\n",
       "      <td>0.0</td>\n",
       "      <td>4.0</td>\n",
       "      <td>3.0</td>\n",
       "      <td>2.400</td>\n",
       "      <td>4.356</td>\n",
       "      <td>1910.0</td>\n",
       "    </tr>\n",
       "    <tr>\n",
       "      <th>2106229715</th>\n",
       "      <td>2595 38th Ave, San Francisco, CA</td>\n",
       "      <td>1/19/16</td>\n",
       "      <td>1.24</td>\n",
       "      <td>0.0</td>\n",
       "      <td>3.0</td>\n",
       "      <td>3.0</td>\n",
       "      <td>2.414</td>\n",
       "      <td>1.306</td>\n",
       "      <td>1943.0</td>\n",
       "    </tr>\n",
       "    <tr>\n",
       "      <th>2128308939</th>\n",
       "      <td>33 Santa Cruz Ave, San Francisco, CA</td>\n",
       "      <td>12/10/15</td>\n",
       "      <td>0.83</td>\n",
       "      <td>0.0</td>\n",
       "      <td>3.0</td>\n",
       "      <td>3.0</td>\n",
       "      <td>1.738</td>\n",
       "      <td>2.299</td>\n",
       "      <td>1976.0</td>\n",
       "    </tr>\n",
       "  </tbody>\n",
       "</table>\n",
       "<p>429 rows × 9 columns</p>\n",
       "</div>"
      ],
      "text/plain": [
       "                                           Address DateOfSale  SalePrice  \\\n",
       "ID                                                                         \n",
       "15063609       819 Francisco St, San Francisco, CA   11/12/15       5.60   \n",
       "15064536    2300 Leavenworth St, San Francisco, CA    12/4/15       2.83   \n",
       "15066281          1807 Jones St, San Francisco, CA   12/15/15       1.70   \n",
       "15069883            59 Rico Way, San Francisco, CA   12/21/15       2.55   \n",
       "15070227        134 Alhambra St, San Francisco, CA    1/18/16       3.08   \n",
       "...                                            ...        ...        ...   \n",
       "96048518         16 Orizaba Ave, San Francisco, CA    12/9/15       1.30   \n",
       "2099976986         639 35th Ave, San Francisco, CA    1/21/16       2.19   \n",
       "2100850402      1915 Diamond St, San Francisco, CA   12/29/15       1.80   \n",
       "2106229715        2595 38th Ave, San Francisco, CA    1/19/16       1.24   \n",
       "2128308939    33 Santa Cruz Ave, San Francisco, CA   12/10/15       0.83   \n",
       "\n",
       "            IsAStudio  Beds  Baths   Size  LotSize  BuiltInYear  \n",
       "ID                                                               \n",
       "15063609          0.0   2.0    3.5  2.040    3.920       1976.0  \n",
       "15064536          0.0   3.0    2.0  2.115    1.271       1913.0  \n",
       "15066281          0.0   2.0    2.0  1.467    3.023       1922.0  \n",
       "15069883          0.0   3.0    1.5  1.675    2.613       1925.0  \n",
       "15070227          0.0   3.0    3.0  2.599    3.005       1925.0  \n",
       "...               ...   ...    ...    ...      ...          ...  \n",
       "96048518          0.0   6.0    6.0  4.136    2.613       2010.0  \n",
       "2099976986        0.0   9.0    6.0  2.790    3.005       1900.0  \n",
       "2100850402        0.0   4.0    3.0  2.400    4.356       1910.0  \n",
       "2106229715        0.0   3.0    3.0  2.414    1.306       1943.0  \n",
       "2128308939        0.0   3.0    3.0  1.738    2.299       1976.0  \n",
       "\n",
       "[429 rows x 9 columns]"
      ]
     },
     "execution_count": 28,
     "metadata": {},
     "output_type": "execute_result"
    }
   ],
   "source": [
    "df.dropna(axis = 0)"
   ]
  },
  {
   "cell_type": "code",
   "execution_count": null,
   "metadata": {
    "collapsed": false
   },
   "outputs": [],
   "source": []
  },
  {
   "cell_type": "code",
   "execution_count": 22,
   "metadata": {
    "collapsed": false
   },
   "outputs": [
    {
     "data": {
      "text/plain": [
       "Address          0\n",
       "DateOfSale       0\n",
       "SalePrice        0\n",
       "IsAStudio       14\n",
       "Beds           164\n",
       "Baths           58\n",
       "Size            33\n",
       "LotSize        444\n",
       "BuiltInYear     25\n",
       "dtype: int64"
      ]
     },
     "execution_count": 22,
     "metadata": {},
     "output_type": "execute_result"
    }
   ],
   "source": [
    "df.isnull().sum()"
   ]
  },
  {
   "cell_type": "markdown",
   "metadata": {},
   "source": [
    "### `SalePrice` as a function of `Size` - Take 3"
   ]
  },
  {
   "cell_type": "markdown",
   "metadata": {},
   "source": [
    "- (http://statsmodels.sourceforge.net/devel/generated/statsmodels.tools.tools.add_constant.html)"
   ]
  },
  {
   "cell_type": "code",
   "execution_count": null,
   "metadata": {
    "collapsed": false
   },
   "outputs": [],
   "source": [
    "def Xy_3(df):\n",
    "    # TODO: X\n",
    "    # TODO: y\n",
    "\n",
    "    return X, y\n",
    "\n",
    "X, y = Xy_3(df)\n",
    "\n",
    "model = smf.OLS(y, X).fit()\n",
    "\n",
    "model.summary()"
   ]
  },
  {
   "cell_type": "markdown",
   "metadata": {},
   "source": [
    "### Making predictions"
   ]
  },
  {
   "cell_type": "code",
   "execution_count": null,
   "metadata": {
    "collapsed": true
   },
   "outputs": [],
   "source": [
    "predict_X = pd.DataFrame({'Size': [1.2, 1.4, 1.6]}, columns = ['Size'])\n",
    "predict_X = sm.add_constant(predict_X)"
   ]
  },
  {
   "cell_type": "code",
   "execution_count": null,
   "metadata": {
    "collapsed": false
   },
   "outputs": [],
   "source": [
    "predict_X"
   ]
  },
  {
   "cell_type": "code",
   "execution_count": null,
   "metadata": {
    "collapsed": false
   },
   "outputs": [],
   "source": [
    "predict_y = model.predict(predict_X)"
   ]
  },
  {
   "cell_type": "code",
   "execution_count": null,
   "metadata": {
    "collapsed": false
   },
   "outputs": [],
   "source": [
    "predict_y"
   ]
  },
  {
   "cell_type": "code",
   "execution_count": null,
   "metadata": {
    "collapsed": false
   },
   "outputs": [],
   "source": [
    "type(predict_y)"
   ]
  },
  {
   "cell_type": "markdown",
   "metadata": {},
   "source": [
    "### Model's parameters"
   ]
  },
  {
   "cell_type": "code",
   "execution_count": null,
   "metadata": {
    "collapsed": false
   },
   "outputs": [],
   "source": [
    "# TODO"
   ]
  },
  {
   "cell_type": "markdown",
   "metadata": {},
   "source": [
    "### t-values"
   ]
  },
  {
   "cell_type": "code",
   "execution_count": null,
   "metadata": {
    "collapsed": false
   },
   "outputs": [],
   "source": [
    "# TODO"
   ]
  },
  {
   "cell_type": "markdown",
   "metadata": {},
   "source": [
    "### p-values"
   ]
  },
  {
   "cell_type": "code",
   "execution_count": null,
   "metadata": {
    "collapsed": false
   },
   "outputs": [],
   "source": [
    "# TODO"
   ]
  },
  {
   "cell_type": "markdown",
   "metadata": {},
   "source": [
    "### Confidence Intervals"
   ]
  },
  {
   "cell_type": "code",
   "execution_count": null,
   "metadata": {
    "collapsed": false
   },
   "outputs": [],
   "source": [
    "# TODO"
   ]
  },
  {
   "cell_type": "markdown",
   "metadata": {},
   "source": [
    "## Part B | The 68 - 90 - 95 - 99.7 Rule"
   ]
  },
  {
   "cell_type": "markdown",
   "metadata": {},
   "source": [
    "- (https://docs.scipy.org/doc/scipy/reference/generated/scipy.stats.norm.html)"
   ]
  },
  {
   "cell_type": "code",
   "execution_count": null,
   "metadata": {
    "collapsed": false
   },
   "outputs": [],
   "source": [
    "stats.norm.cdf(0)\n",
    "# TODO"
   ]
  },
  {
   "cell_type": "code",
   "execution_count": null,
   "metadata": {
    "collapsed": false
   },
   "outputs": [],
   "source": [
    "print \"For normally distributed data:\"\n",
    "for z in [1, 1.65, 2, 3]:\n",
    "    print \"\\t- {:3.2f}% of it is between +/- {:1.2f} sigma(s)\".\\\n",
    "        format((stats.norm.cdf(z) - stats.norm.cdf(-z)) * 100, z)"
   ]
  },
  {
   "cell_type": "markdown",
   "metadata": {},
   "source": [
    "> ### `norm.ppf` (percent point function) is the  inverse of `norm.cdf`:"
   ]
  },
  {
   "cell_type": "code",
   "execution_count": null,
   "metadata": {
    "collapsed": false
   },
   "outputs": [],
   "source": [
    "stats.norm.ppf(stats.norm.cdf(1))"
   ]
  },
  {
   "cell_type": "markdown",
   "metadata": {},
   "source": [
    "> ### $\\sigma$ for the 90% rule?"
   ]
  },
  {
   "cell_type": "code",
   "execution_count": null,
   "metadata": {
    "collapsed": false
   },
   "outputs": [],
   "source": [
    "# TODO"
   ]
  },
  {
   "cell_type": "markdown",
   "metadata": {},
   "source": [
    "## Part C | Linear Regression with _statsmodels_' `ols`"
   ]
  },
  {
   "cell_type": "markdown",
   "metadata": {},
   "source": [
    "- (http://statsmodels.sourceforge.net/devel/examples/notebooks/generated/formulas.html)"
   ]
  },
  {
   "cell_type": "code",
   "execution_count": null,
   "metadata": {
    "collapsed": false
   },
   "outputs": [],
   "source": [
    "# TODO\n",
    "\n",
    "model.summary()"
   ]
  },
  {
   "cell_type": "markdown",
   "metadata": {},
   "source": [
    "### `SalePrice` as a function of `Size` without `Intercept`"
   ]
  },
  {
   "cell_type": "code",
   "execution_count": null,
   "metadata": {
    "collapsed": false
   },
   "outputs": [],
   "source": [
    "# TODO\n",
    "\n",
    "model.summary()"
   ]
  },
  {
   "cell_type": "markdown",
   "metadata": {},
   "source": [
    "### Dropping outliers"
   ]
  },
  {
   "cell_type": "code",
   "execution_count": null,
   "metadata": {
    "collapsed": false
   },
   "outputs": [],
   "source": [
    "def drop_outliers(df):\n",
    "    print 'Dropping outliers'\n",
    "    print '- n (before) =', df.shape[0]\n",
    "\n",
    "    # TODO\n",
    "\n",
    "    print '- Q1         =', Q1, '($M)'\n",
    "    print '- Q2/Median  =', Q2, '($M)'\n",
    "    print '- Q3         =', Q3, '($M)'\n",
    "\n",
    "    # TODO\n",
    "\n",
    "    print '- n (after)  =', df.shape[0]\n",
    "\n",
    "drop_outliers(df)"
   ]
  },
  {
   "cell_type": "markdown",
   "metadata": {},
   "source": [
    "### `SalePrice` as a function of `Size` (again)"
   ]
  },
  {
   "cell_type": "code",
   "execution_count": null,
   "metadata": {
    "collapsed": false
   },
   "outputs": [],
   "source": [
    "# TODO\n",
    "\n",
    "model.summary()"
   ]
  },
  {
   "cell_type": "markdown",
   "metadata": {
    "collapsed": true
   },
   "source": [
    "## Part D | Checking modeling assumptions"
   ]
  },
  {
   "cell_type": "code",
   "execution_count": null,
   "metadata": {
    "collapsed": true
   },
   "outputs": [],
   "source": [
    "model = smf.ols(formula = 'SalePrice ~ Size', data = df).fit()"
   ]
  },
  {
   "cell_type": "markdown",
   "metadata": {},
   "source": [
    "### Are the residuals normally distributed?"
   ]
  },
  {
   "cell_type": "code",
   "execution_count": null,
   "metadata": {
    "collapsed": false
   },
   "outputs": [],
   "source": [
    "# TODO"
   ]
  },
  {
   "cell_type": "markdown",
   "metadata": {},
   "source": [
    "### Are the residuals normally distributed?  `.qqplot()`"
   ]
  },
  {
   "cell_type": "code",
   "execution_count": null,
   "metadata": {
    "collapsed": false
   },
   "outputs": [],
   "source": [
    "# TODO"
   ]
  },
  {
   "cell_type": "markdown",
   "metadata": {},
   "source": [
    "### Are x and $\\varepsilon$ independent?  `.plot_regress_exog()`"
   ]
  },
  {
   "cell_type": "code",
   "execution_count": null,
   "metadata": {
    "collapsed": false
   },
   "outputs": [],
   "source": [
    "# TODO"
   ]
  },
  {
   "cell_type": "markdown",
   "metadata": {},
   "source": [
    "## Part E | Model's Fit and $R^2$"
   ]
  },
  {
   "cell_type": "code",
   "execution_count": null,
   "metadata": {
    "collapsed": false,
    "scrolled": true
   },
   "outputs": [],
   "source": [
    "df = read_dataset() # reload the dataset to get our outliers back...\n",
    "\n",
    "scale_variables(df) # rescale the variables (use the function defined above)"
   ]
  },
  {
   "cell_type": "markdown",
   "metadata": {},
   "source": [
    "### $SalePrice = \\beta_0 + \\beta_1 \\times Size$"
   ]
  },
  {
   "cell_type": "code",
   "execution_count": null,
   "metadata": {
    "collapsed": false
   },
   "outputs": [],
   "source": [
    "X, y = Xy_3(df)\n",
    "\n",
    "model = smf.OLS(y, X).fit()\n",
    "\n",
    "model.summary()"
   ]
  },
  {
   "cell_type": "code",
   "execution_count": null,
   "metadata": {
    "collapsed": false
   },
   "outputs": [],
   "source": [
    "model.rsquared"
   ]
  },
  {
   "cell_type": "code",
   "execution_count": null,
   "metadata": {
    "collapsed": false
   },
   "outputs": [],
   "source": [
    "y_hat = model.predict(X)\n",
    "\n",
    "var_y_hat = sum((y - y_hat) ** 2)\n",
    "var_y = sum((y - y.mean()) ** 2)\n",
    "\n",
    "1 - var_y_hat / var_y"
   ]
  },
  {
   "cell_type": "markdown",
   "metadata": {},
   "source": [
    "### $SalePrice = \\beta_1 \\times Size$"
   ]
  },
  {
   "cell_type": "code",
   "execution_count": null,
   "metadata": {
    "collapsed": false
   },
   "outputs": [],
   "source": [
    "X, y = Xy_2(df)\n",
    "\n",
    "model = smf.OLS(y, X).fit()\n",
    "\n",
    "model.rsquared"
   ]
  },
  {
   "cell_type": "markdown",
   "metadata": {},
   "source": [
    "> #### Is it real?"
   ]
  },
  {
   "cell_type": "code",
   "execution_count": null,
   "metadata": {
    "collapsed": false
   },
   "outputs": [],
   "source": [
    "y_hat = model.predict(X)"
   ]
  },
  {
   "cell_type": "code",
   "execution_count": null,
   "metadata": {
    "collapsed": false
   },
   "outputs": [],
   "source": [
    "1 - sum((y - y_hat) ** 2) / sum((y - y.mean()) ** 2)"
   ]
  },
  {
   "cell_type": "markdown",
   "metadata": {},
   "source": [
    "## Part F | Calculating the t-value, p-value, and confidence interval for `Intercept`"
   ]
  },
  {
   "cell_type": "markdown",
   "metadata": {},
   "source": [
    "- (https://docs.scipy.org/doc/scipy/reference/generated/scipy.stats.t.html)"
   ]
  },
  {
   "cell_type": "markdown",
   "metadata": {},
   "source": [
    "### $SalePrice = \\beta_0 + \\beta_1 \\times Size$"
   ]
  },
  {
   "cell_type": "code",
   "execution_count": null,
   "metadata": {
    "collapsed": false
   },
   "outputs": [],
   "source": [
    "X, y = Xy_3(df)\n",
    "\n",
    "model = smf.OLS(y, X).fit()\n",
    "\n",
    "model.summary()"
   ]
  },
  {
   "cell_type": "markdown",
   "metadata": {},
   "source": [
    "> ### Given the coefficient $\\beta_0$ and the standard error $SE_{\\beta_0}$"
   ]
  },
  {
   "cell_type": "code",
   "execution_count": null,
   "metadata": {
    "collapsed": false
   },
   "outputs": [],
   "source": [
    "print model.params.const\n",
    "print model.bse.const"
   ]
  },
  {
   "cell_type": "markdown",
   "metadata": {},
   "source": [
    "> ### $t\\text{-}value_{\\beta_0}$:"
   ]
  },
  {
   "cell_type": "code",
   "execution_count": null,
   "metadata": {
    "collapsed": false
   },
   "outputs": [],
   "source": [
    "model.tvalues.const"
   ]
  },
  {
   "cell_type": "code",
   "execution_count": null,
   "metadata": {
    "collapsed": false
   },
   "outputs": [],
   "source": [
    "# TODO"
   ]
  },
  {
   "cell_type": "markdown",
   "metadata": {},
   "source": [
    "> ### $p\\text{-}value_{\\beta_0}$:"
   ]
  },
  {
   "cell_type": "code",
   "execution_count": null,
   "metadata": {
    "collapsed": false
   },
   "outputs": [],
   "source": [
    "model.pvalues.const"
   ]
  },
  {
   "cell_type": "code",
   "execution_count": null,
   "metadata": {
    "collapsed": false
   },
   "outputs": [],
   "source": [
    "print 'Degrees of freedom (df):', model.df_resid"
   ]
  },
  {
   "cell_type": "code",
   "execution_count": null,
   "metadata": {
    "collapsed": false
   },
   "outputs": [],
   "source": [
    "# TODO"
   ]
  },
  {
   "cell_type": "markdown",
   "metadata": {},
   "source": [
    "> ### $CI_{\\beta_0}$:"
   ]
  },
  {
   "cell_type": "code",
   "execution_count": null,
   "metadata": {
    "collapsed": false
   },
   "outputs": [],
   "source": [
    "model.conf_int().T.const"
   ]
  },
  {
   "cell_type": "code",
   "execution_count": null,
   "metadata": {
    "collapsed": false
   },
   "outputs": [],
   "source": [
    "# TODO"
   ]
  },
  {
   "cell_type": "markdown",
   "metadata": {},
   "source": [
    "> ### (We can also calculate $SE_{\\beta_0}$:)"
   ]
  },
  {
   "cell_type": "code",
   "execution_count": null,
   "metadata": {
    "collapsed": false
   },
   "outputs": [],
   "source": [
    "model.bse.const"
   ]
  },
  {
   "cell_type": "code",
   "execution_count": null,
   "metadata": {
    "collapsed": false
   },
   "outputs": [],
   "source": [
    "XTX_1 = np.linalg.inv(np.dot(X.T, X))\n",
    "\n",
    "XTX_1"
   ]
  },
  {
   "cell_type": "code",
   "execution_count": null,
   "metadata": {
    "collapsed": false
   },
   "outputs": [],
   "source": [
    "v0 = XTX_1[0, 0]\n",
    "\n",
    "v0"
   ]
  },
  {
   "cell_type": "code",
   "execution_count": null,
   "metadata": {
    "collapsed": false
   },
   "outputs": [],
   "source": [
    "sigma_hat = np.sqrt(1. / model.df_resid * (y ** 2 - y_hat ** 2).sum())"
   ]
  },
  {
   "cell_type": "code",
   "execution_count": null,
   "metadata": {
    "collapsed": false
   },
   "outputs": [],
   "source": [
    "np.sqrt(v0) * sigma_hat"
   ]
  }
 ],
 "metadata": {
  "anaconda-cloud": {},
  "kernelspec": {
   "display_name": "Python 3",
   "language": "python",
   "name": "python3"
  },
  "language_info": {
   "codemirror_mode": {
    "name": "ipython",
    "version": 3
   },
   "file_extension": ".py",
   "mimetype": "text/x-python",
   "name": "python",
   "nbconvert_exporter": "python",
   "pygments_lexer": "ipython3",
   "version": "3.5.2"
  }
 },
 "nbformat": 4,
 "nbformat_minor": 0
}
