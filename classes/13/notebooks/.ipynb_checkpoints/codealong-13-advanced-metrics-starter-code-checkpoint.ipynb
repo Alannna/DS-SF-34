{
 "cells": [
  {
   "cell_type": "markdown",
   "metadata": {},
   "source": [
    "# DS-SF-34 | 13 | Advanced Metrics | Codealong | Starter Code"
   ]
  },
  {
   "cell_type": "code",
   "execution_count": 4,
   "metadata": {
    "collapsed": true
   },
   "outputs": [],
   "source": [
    "import os\n",
    "\n",
    "import numpy as np\n",
    "import pandas as pd\n",
    "pd.set_option('display.max_rows', 10)\n",
    "pd.set_option('display.notebook_repr_html', True)\n",
    "pd.set_option('display.max_columns', 10)\n",
    "\n",
    "from sklearn import linear_model, metrics\n",
    "\n",
    "import matplotlib.pyplot as plt\n",
    "%matplotlib inline\n",
    "plt.style.use('ggplot')"
   ]
  },
  {
   "cell_type": "markdown",
   "metadata": {},
   "source": [
    "## `Iris` dataset, Take 3"
   ]
  },
  {
   "cell_type": "code",
   "execution_count": 5,
   "metadata": {
    "collapsed": true
   },
   "outputs": [],
   "source": [
    "df = pd.read_csv(os.path.join('..', 'datasets', 'dataset-13-iris.csv'))"
   ]
  },
  {
   "cell_type": "code",
   "execution_count": 6,
   "metadata": {
    "collapsed": true
   },
   "outputs": [],
   "source": [
    "X = df[ ['SepalLength', 'SepalWidth', 'PetalLength', 'PetalWidth'] ]\n",
    "\n",
    "cs = pd.get_dummies(df.Species, prefix = None)\n",
    "c_Setosa = cs.Setosa\n",
    "c_Versicolor = cs.Versicolor\n",
    "c_Virginica = cs.Virginica\n",
    "\n",
    "model_Setosa = linear_model.LogisticRegression()\n",
    "model_Setosa.fit(X, c_Setosa)\n",
    "c_hat_Setosa = model_Setosa.predict(X)\n",
    "\n",
    "model_Versicolor = linear_model.LogisticRegression()\n",
    "model_Versicolor.fit(X, c_Versicolor)\n",
    "c_hat_Versicolor = model_Versicolor.predict(X)\n",
    "\n",
    "model_Virginica = linear_model.LogisticRegression()\n",
    "model_Virginica.fit(X, c_Virginica)\n",
    "c_hat_Virginica = model_Virginica.predict(X)"
   ]
  },
  {
   "cell_type": "markdown",
   "metadata": {},
   "source": [
    "## Part A | Confusion Matrix"
   ]
  },
  {
   "cell_type": "markdown",
   "metadata": {},
   "source": [
    "### Review | Classifiers's accuracy"
   ]
  },
  {
   "cell_type": "code",
   "execution_count": 2,
   "metadata": {
    "collapsed": false
   },
   "outputs": [
    {
     "ename": "SyntaxError",
     "evalue": "invalid syntax (<ipython-input-2-db86cfb969b8>, line 1)",
     "output_type": "error",
     "traceback": [
      "\u001b[0;36m  File \u001b[0;32m\"<ipython-input-2-db86cfb969b8>\"\u001b[0;36m, line \u001b[0;32m1\u001b[0m\n\u001b[0;31m    print \"Setosa     classifier's accuracy =\", (model_Setosa.score(X, c_Setosa))\u001b[0m\n\u001b[0m                                             ^\u001b[0m\n\u001b[0;31mSyntaxError\u001b[0m\u001b[0;31m:\u001b[0m invalid syntax\n"
     ]
    }
   ],
   "source": [
    "print \"Setosa     classifier's accuracy =\", model_Setosa.score(X, c_Setosa)\n",
    "print \"Versicolor classifier's accuracy =\", model_Versicolor.score(X, c_Versicolor)\n",
    "print \"Virginica  classifier's accuracy =\", model_Virginica.score(X, c_Virginica)"
   ]
  },
  {
   "cell_type": "markdown",
   "metadata": {},
   "source": [
    "### Setosa"
   ]
  },
  {
   "cell_type": "code",
   "execution_count": 7,
   "metadata": {
    "collapsed": false
   },
   "outputs": [
    {
     "data": {
      "text/html": [
       "<div>\n",
       "<table border=\"1\" class=\"dataframe\">\n",
       "  <thead>\n",
       "    <tr style=\"text-align: right;\">\n",
       "      <th>col_0</th>\n",
       "      <th>0.0</th>\n",
       "      <th>1.0</th>\n",
       "    </tr>\n",
       "    <tr>\n",
       "      <th>Setosa</th>\n",
       "      <th></th>\n",
       "      <th></th>\n",
       "    </tr>\n",
       "  </thead>\n",
       "  <tbody>\n",
       "    <tr>\n",
       "      <th>0.0</th>\n",
       "      <td>100</td>\n",
       "      <td>0</td>\n",
       "    </tr>\n",
       "    <tr>\n",
       "      <th>1.0</th>\n",
       "      <td>0</td>\n",
       "      <td>50</td>\n",
       "    </tr>\n",
       "  </tbody>\n",
       "</table>\n",
       "</div>"
      ],
      "text/plain": [
       "col_0   0.0  1.0\n",
       "Setosa          \n",
       "0.0     100    0\n",
       "1.0       0   50"
      ]
     },
     "execution_count": 7,
     "metadata": {},
     "output_type": "execute_result"
    }
   ],
   "source": [
    "# TODO\n",
    "\n",
    "pd.crosstab(c_Setosa, c_hat_Setosa)"
   ]
  },
  {
   "cell_type": "markdown",
   "metadata": {},
   "source": [
    "### Versicolor"
   ]
  },
  {
   "cell_type": "code",
   "execution_count": null,
   "metadata": {
    "collapsed": false
   },
   "outputs": [],
   "source": [
    "# TODO"
   ]
  },
  {
   "cell_type": "markdown",
   "metadata": {},
   "source": [
    "### Virginica"
   ]
  },
  {
   "cell_type": "code",
   "execution_count": null,
   "metadata": {
    "collapsed": false
   },
   "outputs": [],
   "source": [
    "# TODO"
   ]
  },
  {
   "cell_type": "markdown",
   "metadata": {},
   "source": [
    "## Part B | ROC/AUC"
   ]
  },
  {
   "cell_type": "markdown",
   "metadata": {},
   "source": [
    "### Setosa"
   ]
  },
  {
   "cell_type": "code",
   "execution_count": null,
   "metadata": {
    "collapsed": false
   },
   "outputs": [],
   "source": [
    "p_hat_Setosa = model_Setosa.predict_proba(X).T[1]\n",
    "fpr, tpr, thresholds = metrics.roc_curve(c_Setosa, p_hat_Setosa)\n",
    "\n",
    "plt.figure()\n",
    "plt.plot(fpr, tpr, label = 'ROC curve (area = %0.2f)' % metrics.auc(fpr, tpr))\n",
    "plt.plot([0, 1], [0, 1], 'k--')\n",
    "plt.xlim([0, 1.01])\n",
    "plt.ylim([0, 1.01])\n",
    "plt.xlabel('FPR/Fall-out')\n",
    "plt.ylabel('TPR/Sensitivity')\n",
    "plt.title(\"Setosa's ROC\")\n",
    "plt.legend(loc = 'lower right')"
   ]
  },
  {
   "cell_type": "code",
   "execution_count": null,
   "metadata": {
    "collapsed": false
   },
   "outputs": [],
   "source": [
    "metrics.roc_auc_score(c_Setosa, c_hat_Setosa)"
   ]
  },
  {
   "cell_type": "markdown",
   "metadata": {},
   "source": [
    "### Versicilor"
   ]
  },
  {
   "cell_type": "code",
   "execution_count": null,
   "metadata": {
    "collapsed": false
   },
   "outputs": [],
   "source": [
    "p_hat_Versicolor = model_Versicolor.predict_proba(X).T[1]\n",
    "fpr, tpr, thresholds = metrics.roc_curve(c_Versicolor, p_hat_Versicolor)\n",
    "\n",
    "plt.figure()\n",
    "plt.plot(fpr, tpr, label = 'ROC curve (area = %0.2f)' % metrics.auc(fpr, tpr))\n",
    "plt.plot([0, 1], [0, 1], 'k--')\n",
    "plt.xlim([0, 1.01])\n",
    "plt.ylim([0, 1.01])\n",
    "plt.xlabel('FPR/Fall-out')\n",
    "plt.ylabel('TPR/Sensitivity')\n",
    "plt.title(\"Versicolor's ROC\")\n",
    "plt.legend(loc = 'lower right')"
   ]
  },
  {
   "cell_type": "code",
   "execution_count": null,
   "metadata": {
    "collapsed": false
   },
   "outputs": [],
   "source": [
    "metrics.roc_auc_score(c_Versicolor, c_hat_Versicolor)"
   ]
  },
  {
   "cell_type": "markdown",
   "metadata": {},
   "source": [
    "### Virginica"
   ]
  },
  {
   "cell_type": "code",
   "execution_count": null,
   "metadata": {
    "collapsed": false
   },
   "outputs": [],
   "source": [
    "p_hat_Virginica = model_Virginica.predict_proba(X).T[1]\n",
    "fpr, tpr, thresholds = metrics.roc_curve(c_Virginica, p_hat_Virginica)\n",
    "\n",
    "plt.figure()\n",
    "plt.plot(fpr, tpr, label = 'ROC curve (area = %0.2f)' % metrics.auc(fpr, tpr))\n",
    "plt.plot([0, 1], [0, 1], 'k--')\n",
    "plt.xlim([0, 1.01])\n",
    "plt.ylim([0, 1.01])\n",
    "plt.xlabel('FPR/Fall-out')\n",
    "plt.ylabel('TPR/Sensitivity')\n",
    "plt.title(\"Virginica's ROC\")\n",
    "plt.legend(loc = 'lower right')"
   ]
  },
  {
   "cell_type": "code",
   "execution_count": null,
   "metadata": {
    "collapsed": false
   },
   "outputs": [],
   "source": [
    "metrics.roc_auc_score(c_Virginica, c_hat_Virginica)"
   ]
  },
  {
   "cell_type": "markdown",
   "metadata": {},
   "source": [
    "## Part C | Prettying up Graphs"
   ]
  },
  {
   "cell_type": "code",
   "execution_count": null,
   "metadata": {
    "collapsed": true
   },
   "outputs": [],
   "source": [
    "color = df.Species.map({'Setosa': 'red', 'Versicolor': 'green', 'Virginica': 'blue'})"
   ]
  },
  {
   "cell_type": "code",
   "execution_count": null,
   "metadata": {
    "collapsed": false
   },
   "outputs": [],
   "source": [
    "axes = df.plot('SepalLength', 'SepalWidth', kind = 'scatter', c = color)\n",
    "axes.set_title('Sepal width as a function as Sepal Length', fontsize = 16)\n",
    "\n",
    "axes.set_xlabel('Sepal Length')\n",
    "axes.set_xlim(0)\n",
    "\n",
    "axes.set_ylabel('Sepal Width')\n",
    "axes.set_ylim(0)"
   ]
  },
  {
   "cell_type": "code",
   "execution_count": null,
   "metadata": {
    "collapsed": false
   },
   "outputs": [],
   "source": [
    "figure, axes = plt.subplots(nrows = 2, ncols = 2, figsize = (16, 16))\n",
    "\n",
    "df.plot('SepalLength', 'SepalWidth', kind = 'scatter', c = color, ax = axes[0, 0])\n",
    "axes[0, 0].set_title('Sepal width as a function as Sepal length', fontsize = 16)\n",
    "axes[0, 0].set_xlabel('Sepal Length')\n",
    "axes[0, 0].set_xlim(0)\n",
    "axes[0, 0].set_ylabel('Sepal Width')\n",
    "axes[0, 0].set_ylim(0)\n",
    "\n",
    "df.plot('PetalLength', 'PetalWidth', kind = 'scatter', c = color, ax = axes[0, 1])\n",
    "axes[0, 1].set_title('Petal width as a function as Petal length', fontsize = 16)\n",
    "axes[0, 1].set_xlabel('Petal Length')\n",
    "axes[0, 1].set_xlim(0)\n",
    "axes[0, 1].set_ylabel('Petal Width')\n",
    "axes[0, 1].set_ylim(0)\n",
    "\n",
    "df.plot('SepalLength', 'PetalWidth', kind = 'scatter', c = color, ax = axes[1, 0])\n",
    "axes[1, 0].set_title('Petal width as a function as Sepal length', fontsize = 16)\n",
    "axes[1, 0].set_xlabel('Sepal Length')\n",
    "axes[1, 0].set_xlim(0)\n",
    "axes[1, 0].set_ylabel('Petal Width')\n",
    "axes[1, 0].set_ylim(0)\n",
    "\n",
    "df.plot('PetalLength', 'SepalWidth', kind = 'scatter', c = color, ax = axes[1, 1])\n",
    "axes[1, 1].set_title('Sepal width as a function as Petal length', fontsize = 16)\n",
    "axes[1, 1].set_xlabel('Petal Length')\n",
    "axes[1, 1].set_xlim(0)\n",
    "axes[1, 1].set_ylabel('Sepal Width')\n",
    "axes[1, 1].set_ylim(0)"
   ]
  }
 ],
 "metadata": {
  "anaconda-cloud": {},
  "kernelspec": {
   "display_name": "Python 3",
   "language": "python",
   "name": "python3"
  },
  "language_info": {
   "codemirror_mode": {
    "name": "ipython",
    "version": 3
   },
   "file_extension": ".py",
   "mimetype": "text/x-python",
   "name": "python",
   "nbconvert_exporter": "python",
   "pygments_lexer": "ipython3",
   "version": "3.5.2"
  }
 },
 "nbformat": 4,
 "nbformat_minor": 0
}
