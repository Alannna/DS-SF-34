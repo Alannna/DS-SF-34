{
 "cells": [
  {
   "cell_type": "code",
   "execution_count": 3,
   "metadata": {
    "collapsed": false
   },
   "outputs": [],
   "source": [
    "import os \n",
    "import pandas as pd \n",
    "import statsmodels.api as sm \n",
    "import sklearn \n",
    "\n",
    "pd.set_option('display.max_rows',10)\n",
    "pd.set_option('display.max_columns',10)\n",
    "pd.set_option('display.notebook_repr_html',True)\n",
    "\n"
   ]
  },
  {
   "cell_type": "markdown",
   "metadata": {},
   "source": [
    "#### Hypothesis: Type of product will predict whether or not a consumer files a complaint. \n",
    "\n",
    "#Background \n",
    "The Consumer Financial Protection Bureau \n",
    "receives customer complaints about financial products \n",
    "and refers them to the financial institutions. But, it is unclear if there are underlying patterns in the complaints. It will matter to anyone who has struggled with their financial institution and the CFPB. \n",
    "\n",
    "#What type of problem\n",
    "I am predicting a binary classifier for each category. It seems to reside in the classification realm of machine learning. \n",
    "\n",
    "\n",
    "#What kind of impact do you think it could have?\n",
    "There could be evidence for better customer support, regulation or enforcement around banking in particular product areas. \n",
    "\n",
    "\n",
    "What do you think will have the most impact in predicting the value you are interested in solving for?\n",
    "\n",
    "\n",
    "\n"
   ]
  },
  {
   "cell_type": "code",
   "execution_count": 6,
   "metadata": {
    "collapsed": false
   },
   "outputs": [
    {
     "name": "stderr",
     "output_type": "stream",
     "text": [
      "//anaconda/lib/python3.5/site-packages/IPython/core/interactiveshell.py:2717: DtypeWarning: Columns (5,11) have mixed types. Specify dtype option on import or set low_memory=False.\n",
      "  interactivity=interactivity, compiler=compiler, result=result)\n"
     ]
    }
   ],
   "source": [
    "df = pd.read_csv(os.path.join('..',\"data\",\"consumer_complaints.csv.gz\"))"
   ]
  },
  {
   "cell_type": "code",
   "execution_count": 5,
   "metadata": {
    "collapsed": false
   },
   "outputs": [
    {
     "data": {
      "text/html": [
       "<div>\n",
       "<table border=\"1\" class=\"dataframe\">\n",
       "  <thead>\n",
       "    <tr style=\"text-align: right;\">\n",
       "      <th></th>\n",
       "      <th>date_received</th>\n",
       "      <th>product</th>\n",
       "      <th>sub_product</th>\n",
       "      <th>issue</th>\n",
       "      <th>sub_issue</th>\n",
       "      <th>...</th>\n",
       "      <th>date_sent_to_company</th>\n",
       "      <th>company_response_to_consumer</th>\n",
       "      <th>timely_response</th>\n",
       "      <th>consumer_disputed?</th>\n",
       "      <th>complaint_id</th>\n",
       "    </tr>\n",
       "  </thead>\n",
       "  <tbody>\n",
       "    <tr>\n",
       "      <th>0</th>\n",
       "      <td>08/30/2013</td>\n",
       "      <td>Mortgage</td>\n",
       "      <td>Other mortgage</td>\n",
       "      <td>Loan modification,collection,foreclosure</td>\n",
       "      <td>NaN</td>\n",
       "      <td>...</td>\n",
       "      <td>09/03/2013</td>\n",
       "      <td>Closed with explanation</td>\n",
       "      <td>Yes</td>\n",
       "      <td>Yes</td>\n",
       "      <td>511074</td>\n",
       "    </tr>\n",
       "    <tr>\n",
       "      <th>1</th>\n",
       "      <td>08/30/2013</td>\n",
       "      <td>Mortgage</td>\n",
       "      <td>Other mortgage</td>\n",
       "      <td>Loan servicing, payments, escrow account</td>\n",
       "      <td>NaN</td>\n",
       "      <td>...</td>\n",
       "      <td>09/03/2013</td>\n",
       "      <td>Closed with explanation</td>\n",
       "      <td>Yes</td>\n",
       "      <td>Yes</td>\n",
       "      <td>511080</td>\n",
       "    </tr>\n",
       "    <tr>\n",
       "      <th>2</th>\n",
       "      <td>08/30/2013</td>\n",
       "      <td>Credit reporting</td>\n",
       "      <td>NaN</td>\n",
       "      <td>Incorrect information on credit report</td>\n",
       "      <td>Account status</td>\n",
       "      <td>...</td>\n",
       "      <td>09/18/2013</td>\n",
       "      <td>Closed with explanation</td>\n",
       "      <td>Yes</td>\n",
       "      <td>No</td>\n",
       "      <td>510473</td>\n",
       "    </tr>\n",
       "    <tr>\n",
       "      <th>3</th>\n",
       "      <td>08/30/2013</td>\n",
       "      <td>Student loan</td>\n",
       "      <td>Non-federal student loan</td>\n",
       "      <td>Repaying your loan</td>\n",
       "      <td>Repaying your loan</td>\n",
       "      <td>...</td>\n",
       "      <td>08/30/2013</td>\n",
       "      <td>Closed with explanation</td>\n",
       "      <td>Yes</td>\n",
       "      <td>Yes</td>\n",
       "      <td>510326</td>\n",
       "    </tr>\n",
       "    <tr>\n",
       "      <th>4</th>\n",
       "      <td>08/30/2013</td>\n",
       "      <td>Debt collection</td>\n",
       "      <td>Credit card</td>\n",
       "      <td>False statements or representation</td>\n",
       "      <td>Attempted to collect wrong amount</td>\n",
       "      <td>...</td>\n",
       "      <td>08/30/2013</td>\n",
       "      <td>Closed with explanation</td>\n",
       "      <td>Yes</td>\n",
       "      <td>Yes</td>\n",
       "      <td>511067</td>\n",
       "    </tr>\n",
       "  </tbody>\n",
       "</table>\n",
       "<p>5 rows × 18 columns</p>\n",
       "</div>"
      ],
      "text/plain": [
       "  date_received           product               sub_product  \\\n",
       "0    08/30/2013          Mortgage            Other mortgage   \n",
       "1    08/30/2013          Mortgage            Other mortgage   \n",
       "2    08/30/2013  Credit reporting                       NaN   \n",
       "3    08/30/2013      Student loan  Non-federal student loan   \n",
       "4    08/30/2013   Debt collection               Credit card   \n",
       "\n",
       "                                      issue  \\\n",
       "0  Loan modification,collection,foreclosure   \n",
       "1  Loan servicing, payments, escrow account   \n",
       "2    Incorrect information on credit report   \n",
       "3                        Repaying your loan   \n",
       "4        False statements or representation   \n",
       "\n",
       "                           sub_issue     ...      date_sent_to_company  \\\n",
       "0                                NaN     ...                09/03/2013   \n",
       "1                                NaN     ...                09/03/2013   \n",
       "2                     Account status     ...                09/18/2013   \n",
       "3                 Repaying your loan     ...                08/30/2013   \n",
       "4  Attempted to collect wrong amount     ...                08/30/2013   \n",
       "\n",
       "  company_response_to_consumer timely_response consumer_disputed? complaint_id  \n",
       "0      Closed with explanation             Yes                Yes       511074  \n",
       "1      Closed with explanation             Yes                Yes       511080  \n",
       "2      Closed with explanation             Yes                 No       510473  \n",
       "3      Closed with explanation             Yes                Yes       510326  \n",
       "4      Closed with explanation             Yes                Yes       511067  \n",
       "\n",
       "[5 rows x 18 columns]"
      ]
     },
     "execution_count": 5,
     "metadata": {},
     "output_type": "execute_result"
    }
   ],
   "source": [
    "df.head()"
   ]
  },
  {
   "cell_type": "code",
   "execution_count": 10,
   "metadata": {
    "collapsed": false
   },
   "outputs": [
    {
     "data": {
      "text/html": [
       "<div>\n",
       "<table border=\"1\" class=\"dataframe\">\n",
       "  <thead>\n",
       "    <tr style=\"text-align: right;\">\n",
       "      <th></th>\n",
       "      <th>date_received</th>\n",
       "      <th>product</th>\n",
       "      <th>sub_product</th>\n",
       "      <th>issue</th>\n",
       "      <th>sub_issue</th>\n",
       "      <th>...</th>\n",
       "      <th>date_sent_to_company</th>\n",
       "      <th>company_response_to_consumer</th>\n",
       "      <th>timely_response</th>\n",
       "      <th>consumer_disputed?</th>\n",
       "      <th>complaint_id</th>\n",
       "    </tr>\n",
       "  </thead>\n",
       "  <tbody>\n",
       "    <tr>\n",
       "      <th>86402</th>\n",
       "      <td>06/23/2014</td>\n",
       "      <td>Credit reporting</td>\n",
       "      <td>NaN</td>\n",
       "      <td>Incorrect information on credit report</td>\n",
       "      <td>Account terms</td>\n",
       "      <td>...</td>\n",
       "      <td>06/26/2014</td>\n",
       "      <td>Closed with non-monetary relief</td>\n",
       "      <td>Yes</td>\n",
       "      <td>No</td>\n",
       "      <td>907337</td>\n",
       "    </tr>\n",
       "  </tbody>\n",
       "</table>\n",
       "<p>1 rows × 18 columns</p>\n",
       "</div>"
      ],
      "text/plain": [
       "      date_received           product sub_product  \\\n",
       "86402    06/23/2014  Credit reporting         NaN   \n",
       "\n",
       "                                        issue      sub_issue     ...       \\\n",
       "86402  Incorrect information on credit report  Account terms     ...        \n",
       "\n",
       "      date_sent_to_company     company_response_to_consumer timely_response  \\\n",
       "86402           06/26/2014  Closed with non-monetary relief             Yes   \n",
       "\n",
       "      consumer_disputed? complaint_id  \n",
       "86402                 No       907337  \n",
       "\n",
       "[1 rows x 18 columns]"
      ]
     },
     "execution_count": 10,
     "metadata": {},
     "output_type": "execute_result"
    }
   ],
   "source": [
    "df.sample(n = 1%10)"
   ]
  },
  {
   "cell_type": "code",
   "execution_count": 7,
   "metadata": {
    "collapsed": false
   },
   "outputs": [
    {
     "data": {
      "text/plain": [
       "Index(['date_received', 'product', 'sub_product', 'issue', 'sub_issue',\n",
       "       'consumer_complaint_narrative', 'company_public_response', 'company',\n",
       "       'state', 'zipcode', 'tags', 'consumer_consent_provided',\n",
       "       'submitted_via', 'date_sent_to_company', 'company_response_to_consumer',\n",
       "       'timely_response', 'consumer_disputed?', 'complaint_id'],\n",
       "      dtype='object')"
      ]
     },
     "execution_count": 7,
     "metadata": {},
     "output_type": "execute_result"
    }
   ],
   "source": [
    "#what columns do we have \n",
    "df.columns\n"
   ]
  },
  {
   "cell_type": "code",
   "execution_count": 39,
   "metadata": {
    "collapsed": false
   },
   "outputs": [
    {
     "data": {
      "text/html": [
       "<div>\n",
       "<table border=\"1\" class=\"dataframe\">\n",
       "  <thead>\n",
       "    <tr style=\"text-align: right;\">\n",
       "      <th></th>\n",
       "      <th>date_received</th>\n",
       "      <th>product</th>\n",
       "      <th>sub_product</th>\n",
       "      <th>issue</th>\n",
       "      <th>sub_issue</th>\n",
       "      <th>...</th>\n",
       "      <th>submitted_via</th>\n",
       "      <th>date_sent_to_company</th>\n",
       "      <th>company_response_to_consumer</th>\n",
       "      <th>timely_response</th>\n",
       "      <th>consumer_disputed?</th>\n",
       "    </tr>\n",
       "    <tr>\n",
       "      <th>complaint_id</th>\n",
       "      <th></th>\n",
       "      <th></th>\n",
       "      <th></th>\n",
       "      <th></th>\n",
       "      <th></th>\n",
       "      <th></th>\n",
       "      <th></th>\n",
       "      <th></th>\n",
       "      <th></th>\n",
       "      <th></th>\n",
       "      <th></th>\n",
       "    </tr>\n",
       "  </thead>\n",
       "  <tbody>\n",
       "    <tr>\n",
       "      <th>511074</th>\n",
       "      <td>08/30/2013</td>\n",
       "      <td>Mortgage</td>\n",
       "      <td>Other mortgage</td>\n",
       "      <td>Loan modification,collection,foreclosure</td>\n",
       "      <td>NaN</td>\n",
       "      <td>...</td>\n",
       "      <td>Referral</td>\n",
       "      <td>09/03/2013</td>\n",
       "      <td>Closed with explanation</td>\n",
       "      <td>Yes</td>\n",
       "      <td>Yes</td>\n",
       "    </tr>\n",
       "    <tr>\n",
       "      <th>511080</th>\n",
       "      <td>08/30/2013</td>\n",
       "      <td>Mortgage</td>\n",
       "      <td>Other mortgage</td>\n",
       "      <td>Loan servicing, payments, escrow account</td>\n",
       "      <td>NaN</td>\n",
       "      <td>...</td>\n",
       "      <td>Referral</td>\n",
       "      <td>09/03/2013</td>\n",
       "      <td>Closed with explanation</td>\n",
       "      <td>Yes</td>\n",
       "      <td>Yes</td>\n",
       "    </tr>\n",
       "    <tr>\n",
       "      <th>510473</th>\n",
       "      <td>08/30/2013</td>\n",
       "      <td>Credit reporting</td>\n",
       "      <td>NaN</td>\n",
       "      <td>Incorrect information on credit report</td>\n",
       "      <td>Account status</td>\n",
       "      <td>...</td>\n",
       "      <td>Postal mail</td>\n",
       "      <td>09/18/2013</td>\n",
       "      <td>Closed with explanation</td>\n",
       "      <td>Yes</td>\n",
       "      <td>No</td>\n",
       "    </tr>\n",
       "    <tr>\n",
       "      <th>510326</th>\n",
       "      <td>08/30/2013</td>\n",
       "      <td>Student loan</td>\n",
       "      <td>Non-federal student loan</td>\n",
       "      <td>Repaying your loan</td>\n",
       "      <td>Repaying your loan</td>\n",
       "      <td>...</td>\n",
       "      <td>Email</td>\n",
       "      <td>08/30/2013</td>\n",
       "      <td>Closed with explanation</td>\n",
       "      <td>Yes</td>\n",
       "      <td>Yes</td>\n",
       "    </tr>\n",
       "    <tr>\n",
       "      <th>511067</th>\n",
       "      <td>08/30/2013</td>\n",
       "      <td>Debt collection</td>\n",
       "      <td>Credit card</td>\n",
       "      <td>False statements or representation</td>\n",
       "      <td>Attempted to collect wrong amount</td>\n",
       "      <td>...</td>\n",
       "      <td>Web</td>\n",
       "      <td>08/30/2013</td>\n",
       "      <td>Closed with explanation</td>\n",
       "      <td>Yes</td>\n",
       "      <td>Yes</td>\n",
       "    </tr>\n",
       "    <tr>\n",
       "      <th>...</th>\n",
       "      <td>...</td>\n",
       "      <td>...</td>\n",
       "      <td>...</td>\n",
       "      <td>...</td>\n",
       "      <td>...</td>\n",
       "      <td>...</td>\n",
       "      <td>...</td>\n",
       "      <td>...</td>\n",
       "      <td>...</td>\n",
       "      <td>...</td>\n",
       "      <td>...</td>\n",
       "    </tr>\n",
       "    <tr>\n",
       "      <th>919529</th>\n",
       "      <td>07/01/2014</td>\n",
       "      <td>Mortgage</td>\n",
       "      <td>Other mortgage</td>\n",
       "      <td>Loan modification,collection,foreclosure</td>\n",
       "      <td>NaN</td>\n",
       "      <td>...</td>\n",
       "      <td>Referral</td>\n",
       "      <td>07/07/2014</td>\n",
       "      <td>Closed with explanation</td>\n",
       "      <td>Yes</td>\n",
       "      <td>No</td>\n",
       "    </tr>\n",
       "    <tr>\n",
       "      <th>918447</th>\n",
       "      <td>07/01/2014</td>\n",
       "      <td>Mortgage</td>\n",
       "      <td>Other mortgage</td>\n",
       "      <td>Loan servicing, payments, escrow account</td>\n",
       "      <td>NaN</td>\n",
       "      <td>...</td>\n",
       "      <td>Referral</td>\n",
       "      <td>07/23/2014</td>\n",
       "      <td>Closed with explanation</td>\n",
       "      <td>No</td>\n",
       "      <td>No</td>\n",
       "    </tr>\n",
       "    <tr>\n",
       "      <th>114550</th>\n",
       "      <td>07/10/2012</td>\n",
       "      <td>Mortgage</td>\n",
       "      <td>Conventional fixed mortgage</td>\n",
       "      <td>Loan modification,collection,foreclosure</td>\n",
       "      <td>NaN</td>\n",
       "      <td>...</td>\n",
       "      <td>Phone</td>\n",
       "      <td>11/18/2013</td>\n",
       "      <td>Closed with explanation</td>\n",
       "      <td>Yes</td>\n",
       "      <td>No</td>\n",
       "    </tr>\n",
       "    <tr>\n",
       "      <th>1329963</th>\n",
       "      <td>04/14/2015</td>\n",
       "      <td>Debt collection</td>\n",
       "      <td>I do not know</td>\n",
       "      <td>Communication tactics</td>\n",
       "      <td>Frequent or repeated calls</td>\n",
       "      <td>...</td>\n",
       "      <td>Phone</td>\n",
       "      <td>04/14/2015</td>\n",
       "      <td>Untimely response</td>\n",
       "      <td>No</td>\n",
       "      <td>No</td>\n",
       "    </tr>\n",
       "    <tr>\n",
       "      <th>984116</th>\n",
       "      <td>08/14/2014</td>\n",
       "      <td>Debt collection</td>\n",
       "      <td>I do not know</td>\n",
       "      <td>Cont'd attempts collect debt not owed</td>\n",
       "      <td>Debt is not mine</td>\n",
       "      <td>...</td>\n",
       "      <td>Phone</td>\n",
       "      <td>08/18/2014</td>\n",
       "      <td>Closed with explanation</td>\n",
       "      <td>Yes</td>\n",
       "      <td>No</td>\n",
       "    </tr>\n",
       "  </tbody>\n",
       "</table>\n",
       "<p>555957 rows × 17 columns</p>\n",
       "</div>"
      ],
      "text/plain": [
       "             date_received           product                  sub_product  \\\n",
       "complaint_id                                                                \n",
       "511074          08/30/2013          Mortgage               Other mortgage   \n",
       "511080          08/30/2013          Mortgage               Other mortgage   \n",
       "510473          08/30/2013  Credit reporting                          NaN   \n",
       "510326          08/30/2013      Student loan     Non-federal student loan   \n",
       "511067          08/30/2013   Debt collection                  Credit card   \n",
       "...                    ...               ...                          ...   \n",
       "919529          07/01/2014          Mortgage               Other mortgage   \n",
       "918447          07/01/2014          Mortgage               Other mortgage   \n",
       "114550          07/10/2012          Mortgage  Conventional fixed mortgage   \n",
       "1329963         04/14/2015   Debt collection                I do not know   \n",
       "984116          08/14/2014   Debt collection                I do not know   \n",
       "\n",
       "                                                 issue  \\\n",
       "complaint_id                                             \n",
       "511074        Loan modification,collection,foreclosure   \n",
       "511080        Loan servicing, payments, escrow account   \n",
       "510473          Incorrect information on credit report   \n",
       "510326                              Repaying your loan   \n",
       "511067              False statements or representation   \n",
       "...                                                ...   \n",
       "919529        Loan modification,collection,foreclosure   \n",
       "918447        Loan servicing, payments, escrow account   \n",
       "114550        Loan modification,collection,foreclosure   \n",
       "1329963                          Communication tactics   \n",
       "984116           Cont'd attempts collect debt not owed   \n",
       "\n",
       "                                      sub_issue        ...          \\\n",
       "complaint_id                                           ...           \n",
       "511074                                      NaN        ...           \n",
       "511080                                      NaN        ...           \n",
       "510473                           Account status        ...           \n",
       "510326                       Repaying your loan        ...           \n",
       "511067        Attempted to collect wrong amount        ...           \n",
       "...                                         ...        ...           \n",
       "919529                                      NaN        ...           \n",
       "918447                                      NaN        ...           \n",
       "114550                                      NaN        ...           \n",
       "1329963              Frequent or repeated calls        ...           \n",
       "984116                         Debt is not mine        ...           \n",
       "\n",
       "             submitted_via date_sent_to_company company_response_to_consumer  \\\n",
       "complaint_id                                                                   \n",
       "511074            Referral           09/03/2013      Closed with explanation   \n",
       "511080            Referral           09/03/2013      Closed with explanation   \n",
       "510473         Postal mail           09/18/2013      Closed with explanation   \n",
       "510326               Email           08/30/2013      Closed with explanation   \n",
       "511067                 Web           08/30/2013      Closed with explanation   \n",
       "...                    ...                  ...                          ...   \n",
       "919529            Referral           07/07/2014      Closed with explanation   \n",
       "918447            Referral           07/23/2014      Closed with explanation   \n",
       "114550               Phone           11/18/2013      Closed with explanation   \n",
       "1329963              Phone           04/14/2015            Untimely response   \n",
       "984116               Phone           08/18/2014      Closed with explanation   \n",
       "\n",
       "             timely_response consumer_disputed?  \n",
       "complaint_id                                     \n",
       "511074                   Yes                Yes  \n",
       "511080                   Yes                Yes  \n",
       "510473                   Yes                 No  \n",
       "510326                   Yes                Yes  \n",
       "511067                   Yes                Yes  \n",
       "...                      ...                ...  \n",
       "919529                   Yes                 No  \n",
       "918447                    No                 No  \n",
       "114550                   Yes                 No  \n",
       "1329963                   No                 No  \n",
       "984116                   Yes                 No  \n",
       "\n",
       "[555957 rows x 17 columns]"
      ]
     },
     "execution_count": 39,
     "metadata": {},
     "output_type": "execute_result"
    }
   ],
   "source": [
    "df"
   ]
  },
  {
   "cell_type": "code",
   "execution_count": 11,
   "metadata": {
    "collapsed": false
   },
   "outputs": [],
   "source": [
    "#change complaint id to index \n",
    "#df = df.set_index('complaint_id')"
   ]
  },
  {
   "cell_type": "code",
   "execution_count": null,
   "metadata": {
    "collapsed": false
   },
   "outputs": [],
   "source": []
  },
  {
   "cell_type": "code",
   "execution_count": 9,
   "metadata": {
    "collapsed": false
   },
   "outputs": [
    {
     "data": {
      "text/plain": [
       "<pandas.core.groupby.DataFrameGroupBy object at 0x12175af60>"
      ]
     },
     "execution_count": 9,
     "metadata": {},
     "output_type": "execute_result"
    }
   ],
   "source": [
    "#perhaps i should drop some of these? but, how many? \n",
    "\n",
    "df.groupby('issue')\n",
    "\n",
    "#wdf.issue"
   ]
  },
  {
   "cell_type": "code",
   "execution_count": 10,
   "metadata": {
    "collapsed": false
   },
   "outputs": [
    {
     "data": {
      "text/plain": [
       "Loan modification,collection,foreclosure    97191\n",
       "Incorrect information on credit report      66718\n",
       "Loan servicing, payments, escrow account    60375\n",
       "Cont'd attempts collect debt not owed       42285\n",
       "Account opening, closing, or management     26661\n",
       "                                            ...  \n",
       "Lost or stolen money order                     25\n",
       "Incorrect exchange rate                        16\n",
       "Lender sold the property                        5\n",
       "Lender damaged or destroyed vehicle             5\n",
       "Lender damaged or destroyed property            1\n",
       "Name: issue, dtype: int64"
      ]
     },
     "execution_count": 10,
     "metadata": {},
     "output_type": "execute_result"
    }
   ],
   "source": [
    "#the most common issue is loan modification, collection or foreclosure \n",
    "df.issue.value_counts(dropna = False)"
   ]
  },
  {
   "cell_type": "code",
   "execution_count": 11,
   "metadata": {
    "collapsed": false
   },
   "outputs": [
    {
     "data": {
      "text/plain": [
       "Mortgage                   186475\n",
       "Debt collection            101052\n",
       "Credit reporting            91854\n",
       "Credit card                 66468\n",
       "Bank account or service     62563\n",
       "                            ...  \n",
       "Student loan                15839\n",
       "Payday loan                  3877\n",
       "Money transfers              3812\n",
       "Prepaid card                 2470\n",
       "Other financial service       557\n",
       "Name: product, dtype: int64"
      ]
     },
     "execution_count": 11,
     "metadata": {},
     "output_type": "execute_result"
    }
   ],
   "source": [
    "#looks like mortgages are the greatest number of complaints \n",
    "\n",
    "df['product'].value_counts(dropna = False)"
   ]
  },
  {
   "cell_type": "code",
   "execution_count": null,
   "metadata": {
    "collapsed": true
   },
   "outputs": [],
   "source": []
  },
  {
   "cell_type": "code",
   "execution_count": 12,
   "metadata": {
    "collapsed": false
   },
   "outputs": [
    {
     "data": {
      "text/plain": [
       "<bound method NDFrame.drop of        date_received           product                  sub_product  \\\n",
       "0         08/30/2013          Mortgage               Other mortgage   \n",
       "1         08/30/2013          Mortgage               Other mortgage   \n",
       "2         08/30/2013  Credit reporting                          NaN   \n",
       "3         08/30/2013      Student loan     Non-federal student loan   \n",
       "4         08/30/2013   Debt collection                  Credit card   \n",
       "...              ...               ...                          ...   \n",
       "555952    07/01/2014          Mortgage               Other mortgage   \n",
       "555953    07/01/2014          Mortgage               Other mortgage   \n",
       "555954    07/10/2012          Mortgage  Conventional fixed mortgage   \n",
       "555955    04/14/2015   Debt collection                I do not know   \n",
       "555956    08/14/2014   Debt collection                I do not know   \n",
       "\n",
       "                                           issue  \\\n",
       "0       Loan modification,collection,foreclosure   \n",
       "1       Loan servicing, payments, escrow account   \n",
       "2         Incorrect information on credit report   \n",
       "3                             Repaying your loan   \n",
       "4             False statements or representation   \n",
       "...                                          ...   \n",
       "555952  Loan modification,collection,foreclosure   \n",
       "555953  Loan servicing, payments, escrow account   \n",
       "555954  Loan modification,collection,foreclosure   \n",
       "555955                     Communication tactics   \n",
       "555956     Cont'd attempts collect debt not owed   \n",
       "\n",
       "                                sub_issue     ...      date_sent_to_company  \\\n",
       "0                                     NaN     ...                09/03/2013   \n",
       "1                                     NaN     ...                09/03/2013   \n",
       "2                          Account status     ...                09/18/2013   \n",
       "3                      Repaying your loan     ...                08/30/2013   \n",
       "4       Attempted to collect wrong amount     ...                08/30/2013   \n",
       "...                                   ...     ...                       ...   \n",
       "555952                                NaN     ...                07/07/2014   \n",
       "555953                                NaN     ...                07/23/2014   \n",
       "555954                                NaN     ...                11/18/2013   \n",
       "555955         Frequent or repeated calls     ...                04/14/2015   \n",
       "555956                   Debt is not mine     ...                08/18/2014   \n",
       "\n",
       "       company_response_to_consumer timely_response consumer_disputed?  \\\n",
       "0           Closed with explanation             Yes                Yes   \n",
       "1           Closed with explanation             Yes                Yes   \n",
       "2           Closed with explanation             Yes                 No   \n",
       "3           Closed with explanation             Yes                Yes   \n",
       "4           Closed with explanation             Yes                Yes   \n",
       "...                             ...             ...                ...   \n",
       "555952      Closed with explanation             Yes                 No   \n",
       "555953      Closed with explanation              No                 No   \n",
       "555954      Closed with explanation             Yes                 No   \n",
       "555955            Untimely response              No                 No   \n",
       "555956      Closed with explanation             Yes                 No   \n",
       "\n",
       "       complaint_id  \n",
       "0            511074  \n",
       "1            511080  \n",
       "2            510473  \n",
       "3            510326  \n",
       "4            511067  \n",
       "...             ...  \n",
       "555952       919529  \n",
       "555953       918447  \n",
       "555954       114550  \n",
       "555955      1329963  \n",
       "555956       984116  \n",
       "\n",
       "[555957 rows x 18 columns]>"
      ]
     },
     "execution_count": 12,
     "metadata": {},
     "output_type": "execute_result"
    }
   ],
   "source": [
    "df.isnull().sum()\n",
    "\n",
    "df.drop"
   ]
  },
  {
   "cell_type": "code",
   "execution_count": 38,
   "metadata": {
    "collapsed": false
   },
   "outputs": [
    {
     "data": {
      "text/plain": [
       "Index(['date_received', 'product', 'sub_product', 'issue', 'sub_issue',\n",
       "       'consumer_complaint_narrative', 'company_public_response', 'company',\n",
       "       'state', 'zipcode', 'tags', 'consumer_consent_provided',\n",
       "       'submitted_via', 'date_sent_to_company', 'company_response_to_consumer',\n",
       "       'timely_response', 'consumer_disputed?'],\n",
       "      dtype='object')"
      ]
     },
     "execution_count": 38,
     "metadata": {},
     "output_type": "execute_result"
    }
   ],
   "source": [
    "#df = df.set_index('complaint_id')\n",
    "df.columns"
   ]
  },
  {
   "cell_type": "code",
   "execution_count": 42,
   "metadata": {
    "collapsed": false
   },
   "outputs": [],
   "source": [
    "\n",
    "#create new dataframes & join 'em for a super cohort heavy df\n",
    "df_product = pd.get_dummies(df['product'])\n",
    "#df_issue = pd.get_dummies(df['issue'])\n",
    "df_timely_response = pd.get_dummies(df['timely_response'], prefix = 'timely_response')\n",
    "df_consumer_disputed = pd.get_dummies(df['consumer_disputed?'], prefix = 'consumer_disputed')\n",
    "\n",
    "df = df.join([df_product, df_timely_response, df_consumer_disputed])"
   ]
  },
  {
   "cell_type": "code",
   "execution_count": 48,
   "metadata": {
    "collapsed": false
   },
   "outputs": [],
   "source": [
    "#df = df.merge(df_product, df_timely_response, df_consumer_disputed, how=\"left\")"
   ]
  },
  {
   "cell_type": "code",
   "execution_count": 43,
   "metadata": {
    "collapsed": false
   },
   "outputs": [
    {
     "data": {
      "text/html": [
       "<div>\n",
       "<table border=\"1\" class=\"dataframe\">\n",
       "  <thead>\n",
       "    <tr style=\"text-align: right;\">\n",
       "      <th></th>\n",
       "      <th>date_received</th>\n",
       "      <th>product</th>\n",
       "      <th>sub_product</th>\n",
       "      <th>issue</th>\n",
       "      <th>sub_issue</th>\n",
       "      <th>...</th>\n",
       "      <th>Student loan</th>\n",
       "      <th>timely_response_No</th>\n",
       "      <th>timely_response_Yes</th>\n",
       "      <th>consumer_disputed_No</th>\n",
       "      <th>consumer_disputed_Yes</th>\n",
       "    </tr>\n",
       "    <tr>\n",
       "      <th>complaint_id</th>\n",
       "      <th></th>\n",
       "      <th></th>\n",
       "      <th></th>\n",
       "      <th></th>\n",
       "      <th></th>\n",
       "      <th></th>\n",
       "      <th></th>\n",
       "      <th></th>\n",
       "      <th></th>\n",
       "      <th></th>\n",
       "      <th></th>\n",
       "    </tr>\n",
       "  </thead>\n",
       "  <tbody>\n",
       "    <tr>\n",
       "      <th>511074</th>\n",
       "      <td>08/30/2013</td>\n",
       "      <td>Mortgage</td>\n",
       "      <td>Other mortgage</td>\n",
       "      <td>Loan modification,collection,foreclosure</td>\n",
       "      <td>NaN</td>\n",
       "      <td>...</td>\n",
       "      <td>0.0</td>\n",
       "      <td>0.0</td>\n",
       "      <td>1.0</td>\n",
       "      <td>0.0</td>\n",
       "      <td>1.0</td>\n",
       "    </tr>\n",
       "    <tr>\n",
       "      <th>511080</th>\n",
       "      <td>08/30/2013</td>\n",
       "      <td>Mortgage</td>\n",
       "      <td>Other mortgage</td>\n",
       "      <td>Loan servicing, payments, escrow account</td>\n",
       "      <td>NaN</td>\n",
       "      <td>...</td>\n",
       "      <td>0.0</td>\n",
       "      <td>0.0</td>\n",
       "      <td>1.0</td>\n",
       "      <td>0.0</td>\n",
       "      <td>1.0</td>\n",
       "    </tr>\n",
       "    <tr>\n",
       "      <th>510473</th>\n",
       "      <td>08/30/2013</td>\n",
       "      <td>Credit reporting</td>\n",
       "      <td>NaN</td>\n",
       "      <td>Incorrect information on credit report</td>\n",
       "      <td>Account status</td>\n",
       "      <td>...</td>\n",
       "      <td>0.0</td>\n",
       "      <td>0.0</td>\n",
       "      <td>1.0</td>\n",
       "      <td>1.0</td>\n",
       "      <td>0.0</td>\n",
       "    </tr>\n",
       "    <tr>\n",
       "      <th>510326</th>\n",
       "      <td>08/30/2013</td>\n",
       "      <td>Student loan</td>\n",
       "      <td>Non-federal student loan</td>\n",
       "      <td>Repaying your loan</td>\n",
       "      <td>Repaying your loan</td>\n",
       "      <td>...</td>\n",
       "      <td>1.0</td>\n",
       "      <td>0.0</td>\n",
       "      <td>1.0</td>\n",
       "      <td>0.0</td>\n",
       "      <td>1.0</td>\n",
       "    </tr>\n",
       "    <tr>\n",
       "      <th>511067</th>\n",
       "      <td>08/30/2013</td>\n",
       "      <td>Debt collection</td>\n",
       "      <td>Credit card</td>\n",
       "      <td>False statements or representation</td>\n",
       "      <td>Attempted to collect wrong amount</td>\n",
       "      <td>...</td>\n",
       "      <td>0.0</td>\n",
       "      <td>0.0</td>\n",
       "      <td>1.0</td>\n",
       "      <td>0.0</td>\n",
       "      <td>1.0</td>\n",
       "    </tr>\n",
       "  </tbody>\n",
       "</table>\n",
       "<p>5 rows × 32 columns</p>\n",
       "</div>"
      ],
      "text/plain": [
       "             date_received           product               sub_product  \\\n",
       "complaint_id                                                             \n",
       "511074          08/30/2013          Mortgage            Other mortgage   \n",
       "511080          08/30/2013          Mortgage            Other mortgage   \n",
       "510473          08/30/2013  Credit reporting                       NaN   \n",
       "510326          08/30/2013      Student loan  Non-federal student loan   \n",
       "511067          08/30/2013   Debt collection               Credit card   \n",
       "\n",
       "                                                 issue  \\\n",
       "complaint_id                                             \n",
       "511074        Loan modification,collection,foreclosure   \n",
       "511080        Loan servicing, payments, escrow account   \n",
       "510473          Incorrect information on credit report   \n",
       "510326                              Repaying your loan   \n",
       "511067              False statements or representation   \n",
       "\n",
       "                                      sub_issue          ...           \\\n",
       "complaint_id                                             ...            \n",
       "511074                                      NaN          ...            \n",
       "511080                                      NaN          ...            \n",
       "510473                           Account status          ...            \n",
       "510326                       Repaying your loan          ...            \n",
       "511067        Attempted to collect wrong amount          ...            \n",
       "\n",
       "             Student loan timely_response_No timely_response_Yes  \\\n",
       "complaint_id                                                       \n",
       "511074                0.0                0.0                 1.0   \n",
       "511080                0.0                0.0                 1.0   \n",
       "510473                0.0                0.0                 1.0   \n",
       "510326                1.0                0.0                 1.0   \n",
       "511067                0.0                0.0                 1.0   \n",
       "\n",
       "             consumer_disputed_No consumer_disputed_Yes  \n",
       "complaint_id                                             \n",
       "511074                        0.0                   1.0  \n",
       "511080                        0.0                   1.0  \n",
       "510473                        1.0                   0.0  \n",
       "510326                        0.0                   1.0  \n",
       "511067                        0.0                   1.0  \n",
       "\n",
       "[5 rows x 32 columns]"
      ]
     },
     "execution_count": 43,
     "metadata": {},
     "output_type": "execute_result"
    }
   ],
   "source": [
    "df.head()"
   ]
  },
  {
   "cell_type": "code",
   "execution_count": 45,
   "metadata": {
    "collapsed": false
   },
   "outputs": [
    {
     "data": {
      "text/html": [
       "<div>\n",
       "<table border=\"1\" class=\"dataframe\">\n",
       "  <thead>\n",
       "    <tr style=\"text-align: right;\">\n",
       "      <th></th>\n",
       "      <th>Bank account or service</th>\n",
       "      <th>Consumer Loan</th>\n",
       "      <th>Credit card</th>\n",
       "      <th>Credit reporting</th>\n",
       "      <th>Debt collection</th>\n",
       "      <th>...</th>\n",
       "      <th>Prepaid card</th>\n",
       "      <th>timely_response_No</th>\n",
       "      <th>timely_response_Yes</th>\n",
       "      <th>consumer_disputed_No</th>\n",
       "      <th>consumer_disputed_Yes</th>\n",
       "    </tr>\n",
       "    <tr>\n",
       "      <th>Student loan</th>\n",
       "      <th></th>\n",
       "      <th></th>\n",
       "      <th></th>\n",
       "      <th></th>\n",
       "      <th></th>\n",
       "      <th></th>\n",
       "      <th></th>\n",
       "      <th></th>\n",
       "      <th></th>\n",
       "      <th></th>\n",
       "      <th></th>\n",
       "    </tr>\n",
       "  </thead>\n",
       "  <tbody>\n",
       "    <tr>\n",
       "      <th>0.0</th>\n",
       "      <td>62563.0</td>\n",
       "      <td>20990.0</td>\n",
       "      <td>66468.0</td>\n",
       "      <td>91854.0</td>\n",
       "      <td>101052.0</td>\n",
       "      <td>...</td>\n",
       "      <td>2470.0</td>\n",
       "      <td>13859.0</td>\n",
       "      <td>526259.0</td>\n",
       "      <td>431087.0</td>\n",
       "      <td>109031.0</td>\n",
       "    </tr>\n",
       "    <tr>\n",
       "      <th>1.0</th>\n",
       "      <td>0.0</td>\n",
       "      <td>0.0</td>\n",
       "      <td>0.0</td>\n",
       "      <td>0.0</td>\n",
       "      <td>0.0</td>\n",
       "      <td>...</td>\n",
       "      <td>0.0</td>\n",
       "      <td>189.0</td>\n",
       "      <td>15650.0</td>\n",
       "      <td>12736.0</td>\n",
       "      <td>3103.0</td>\n",
       "    </tr>\n",
       "  </tbody>\n",
       "</table>\n",
       "<p>2 rows × 14 columns</p>\n",
       "</div>"
      ],
      "text/plain": [
       "              Bank account or service  Consumer Loan  Credit card  \\\n",
       "Student loan                                                        \n",
       "0.0                           62563.0        20990.0      66468.0   \n",
       "1.0                               0.0            0.0          0.0   \n",
       "\n",
       "              Credit reporting  Debt collection          ...            \\\n",
       "Student loan                                             ...             \n",
       "0.0                    91854.0         101052.0          ...             \n",
       "1.0                        0.0              0.0          ...             \n",
       "\n",
       "              Prepaid card  timely_response_No  timely_response_Yes  \\\n",
       "Student loan                                                          \n",
       "0.0                 2470.0             13859.0             526259.0   \n",
       "1.0                    0.0               189.0              15650.0   \n",
       "\n",
       "              consumer_disputed_No  consumer_disputed_Yes  \n",
       "Student loan                                               \n",
       "0.0                       431087.0               109031.0  \n",
       "1.0                        12736.0                 3103.0  \n",
       "\n",
       "[2 rows x 14 columns]"
      ]
     },
     "execution_count": 45,
     "metadata": {},
     "output_type": "execute_result"
    }
   ],
   "source": [
    "# how often is there no timely response about each type of product \n",
    "\n",
    "\n",
    "#the vast majority of folks writing about their loans do not dispute their response \n",
    "df.groupby(['Student loan']).sum()"
   ]
  },
  {
   "cell_type": "code",
   "execution_count": null,
   "metadata": {
    "collapsed": false
   },
   "outputs": [],
   "source": [
    "df.groupby(['Mortgage', 'zipcode']).complaint_id.count()"
   ]
  },
  {
   "cell_type": "code",
   "execution_count": 51,
   "metadata": {
    "collapsed": false
   },
   "outputs": [
    {
     "data": {
      "text/plain": [
       "Index(['date_received', 'product', 'sub_product', 'issue', 'sub_issue',\n",
       "       'consumer_complaint_narrative', 'company_public_response', 'company',\n",
       "       'state', 'zipcode', 'tags', 'consumer_consent_provided',\n",
       "       'submitted_via', 'date_sent_to_company', 'company_response_to_consumer',\n",
       "       'timely_response', 'consumer_disputed?', 'Bank account or service',\n",
       "       'Consumer Loan', 'Credit card', 'Credit reporting', 'Debt collection',\n",
       "       'Money transfers', 'Mortgage', 'Other financial service', 'Payday loan',\n",
       "       'Prepaid card', 'Student loan', 'timely_response_No',\n",
       "       'timely_response_Yes', 'consumer_disputed_No', 'consumer_disputed_Yes'],\n",
       "      dtype='object')"
      ]
     },
     "execution_count": 51,
     "metadata": {},
     "output_type": "execute_result"
    }
   ],
   "source": [
    "df.columns"
   ]
  },
  {
   "cell_type": "code",
   "execution_count": null,
   "metadata": {
    "collapsed": true
   },
   "outputs": [],
   "source": [
    "#which types of products have the most complaints?\n",
    "df.groupby.\n",
    "\n",
    "#which products are the least likely to get a quick response \n"
   ]
  }
 ],
 "metadata": {
  "anaconda-cloud": {},
  "kernelspec": {
   "display_name": "Python 3",
   "language": "python",
   "name": "python3"
  },
  "language_info": {
   "codemirror_mode": {
    "name": "ipython",
    "version": 3
   },
   "file_extension": ".py",
   "mimetype": "text/x-python",
   "name": "python",
   "nbconvert_exporter": "python",
   "pygments_lexer": "ipython3",
   "version": "3.5.2"
  }
 },
 "nbformat": 4,
 "nbformat_minor": 1
}
